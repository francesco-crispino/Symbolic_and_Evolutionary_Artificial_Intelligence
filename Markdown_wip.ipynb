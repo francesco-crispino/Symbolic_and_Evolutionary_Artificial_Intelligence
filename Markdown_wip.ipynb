{
 "cells": [
  {
   "cell_type": "markdown",
   "id": "f106183a",
   "metadata": {},
   "source": [
    "## Dataset"
   ]
  },
  {
   "cell_type": "markdown",
   "id": "05471163",
   "metadata": {},
   "source": [
    "This section handles the loading and initial preparation of the MNIST dataset. MNIST contains 28x28 pixel grayscale images of handwritten digits (0-9).\n",
    "\n",
    "**Key Operations:**\n",
    "\n",
    "1.  **Data Loading (`load_mnist_images`, `load_mnist_labels`):**\n",
    "    *   These functions read the MNIST dataset from its specific binary file format.\n",
    "    *   Image data is reshaped to `(num_images, rows, cols)`.\n",
    "\n",
    "2.  **One-Hot Encoding Labels:**\n",
    "    *   For multi-class classification with a softmax output and categorical cross-entropy loss, integer labels (e.g., digit `5`) are converted into a one-hot vector format (e.g., `[0,0,0,0,0,1,0,0,0,0]` for 10 classes).\n",
    "    *   This represents the true label as a probability distribution where the correct class has a probability of 1.\n",
    "\n",
    "<figure style=\"text-align:center;\">\n",
    "    <img src=\"images/mnist_digits.png\", style=\"border-radius:20px;\", width=\"50%\">\n",
    "    <figcaption>Samples from the MNIST dataset</figcaption>\n",
    "</figure>"
   ]
  },
  {
   "cell_type": "code",
   "execution_count": 4,
   "id": "0b9edcb3",
   "metadata": {},
   "outputs": [
    {
     "name": "stdout",
     "output_type": "stream",
     "text": [
      "(60000, 28, 28)\n",
      "(60000,)\n",
      "(60000, 10)\n",
      "(10000, 28, 28)\n",
      "(10000,)\n",
      "(10000, 10)\n"
     ]
    }
   ],
   "source": [
    "import numpy as np\n",
    "import struct\n",
    "import matplotlib.pyplot as plt\n",
    "from tqdm import tqdm\n",
    "import math\n",
    "\n",
    "def load_mnist_images(filename):\n",
    "    with open(filename, 'rb') as f:\n",
    "        # Leggi intestazione: magic number, numero immagini, righe, colonne\n",
    "        magic, num_images, rows, cols = struct.unpack(\">IIII\", f.read(16))\n",
    "        # Leggi tutti i pixel e convertili in array numpy\n",
    "        images = np.frombuffer(f.read(), dtype=np.uint8)\n",
    "        # Ridimensiona l'array in (num_images, rows, cols)\n",
    "        images = images.reshape((num_images, rows, cols))\n",
    "    return images\n",
    "\n",
    "def load_mnist_labels(filename):\n",
    "    with open(filename, 'rb') as f:\n",
    "        magic, num_labels = struct.unpack(\">II\", f.read(8))\n",
    "        labels = np.frombuffer(f.read(), dtype=np.uint8)\n",
    "    return labels\n",
    "\n",
    "#-------------- Data Extraction ---------------------------\n",
    "train_images = load_mnist_images('MNIST/train-images-idx3-ubyte')\n",
    "train_labels = load_mnist_labels('MNIST/train-labels-idx1-ubyte')\n",
    "\n",
    "test_images = load_mnist_images('MNIST/t10k-images.idx3-ubyte')\n",
    "test_labels = load_mnist_labels('MNIST/t10k-labels.idx1-ubyte')\n",
    "\n",
    "#--------------- Train data manipulation ------------------\n",
    "print(train_images.shape)  # (60000, 28, 28)\n",
    "print(train_labels.shape)  # (60000,)\n",
    "\n",
    "one_hot_labels = np.zeros(train_labels.shape[0]*10).reshape((train_labels.shape[0]),10)\n",
    "for i in range(len(train_labels)):\n",
    "    one_hot_labels[i][train_labels[i]]=1\n",
    "train_labels = one_hot_labels\n",
    "\n",
    "print(train_labels.shape) # (60000,10)\n",
    "\n",
    "#--------------- Test data manipulation -------------------\n",
    "print(test_images.shape)  # (10000, 28, 28)\n",
    "print(test_labels.shape)  # (10000,)\n",
    "\n",
    "one_hot_labels = np.zeros(test_labels.shape[0]*10).reshape((test_labels.shape[0]),10)\n",
    "for i in range(len(test_labels)):\n",
    "    one_hot_labels[i][test_labels[i]]=1\n",
    "test_labels = one_hot_labels\n",
    "\n",
    "print(test_labels.shape) # (10000,10)"
   ]
  },
  {
   "cell_type": "markdown",
   "id": "c097cf66",
   "metadata": {},
   "source": [
    "## PyTorch CNN Model Architecture"
   ]
  },
  {
   "cell_type": "markdown",
   "id": "89c8be5b",
   "metadata": {},
   "source": [
    "A Convolutional Neural Network (CNN) is defined using PyTorch's `nn.Module` to serve as a reference and source of pre-trained weights.\n",
    "\n",
    "**Architecture (defined as `SimpleCNN` class):**\n",
    "\n",
    "1.  **Conv1 + ReLU1:** `nn.Conv2d(in_channels=1, out_channels=32, kernel_size=2, stride=2, padding=0)`\n",
    "    *   Input: `(B, 1, 28, 28)`\n",
    "    *   Output dimension: $O = \\lfloor \\frac{(I - K + 2P)}{S} \\rfloor + 1 = \\lfloor \\frac{(28 - 2 + 0)}{2} \\rfloor + 1 = 14$\n",
    "    *   Output: `(B, 32, 14, 14)`\n",
    "\n",
    "2.  **Conv2 + ReLU2:** `nn.Conv2d(32, 64, 2, 2, 1)`\n",
    "    *   Input: `(B, 32, 14, 14)`\n",
    "    *   Padded input dimension: $14 + 2*1 = 16$\n",
    "    *   Output dimension: $O = \\lfloor \\frac{(16 - 2 + 0)}{2} \\rfloor + 1 = 8$\n",
    "    *   Output: `(B, 64, 8, 8)`\n",
    "\n",
    "3.  **Conv3 + ReLU3:** `nn.Conv2d(64, 128, 2, 2, 0)`\n",
    "    *   Input: `(B, 64, 8, 8)`\n",
    "    *   Output dimension: $O = \\lfloor \\frac{(8 - 2 + 0)}{2} \\rfloor + 1 = 4$\n",
    "    *   Output: `(B, 128, 4, 4)`\n",
    "\n",
    "4.  **Flatten:** `nn.Flatten()`\n",
    "    *   Input: `(B, 128, 4, 4)`\n",
    "    *   Output: `(B, 128 * 4 * 4)` which is `(B, 2048)`\n",
    "\n",
    "5.  **FC1 + ReLU4:** `nn.Linear(in_features=2048, out_features=250)`\n",
    "    *   Input: `(B, 2048)`\n",
    "    *   Operation: $Y = XW + b$\n",
    "    *   Output: `(B, 250)`\n",
    "\n",
    "6.  **FC2:** `nn.Linear(in_features=250, out_features=10)` (Output layer)\n",
    "    *   Input: `(B, 250)`    \n",
    "    *   Operation: $Y = XW + b$\n",
    "    *   Output: `(B, 10)` (logits for 10 classes)\n",
    "\n",
    "<figure style=\"text-align:center;\">\n",
    "    <img src=\"images/cnn.png\", style=\"border-radius:20px;\", height=300>\n",
    "    <figcaption>CNN Architecture (B: Batch size)</figcaption>\n",
    "</figure>"
   ]
  },
  {
   "cell_type": "markdown",
   "id": "d5dabdea",
   "metadata": {},
   "source": [
    "### Model and Dataset Declaration with Training"
   ]
  },
  {
   "cell_type": "code",
   "execution_count": 5,
   "id": "5ff84faf",
   "metadata": {},
   "outputs": [],
   "source": [
    "import torch\n",
    "import torch.nn as nn\n",
    "import torch.optim as optim\n",
    "from torch.utils.data import DataLoader, Dataset\n",
    "import time\n",
    "from tqdm import tqdm\n",
    "\n",
    "class SimpleCNN(nn.Module):\n",
    "    def __init__(self, num_classes=10):\n",
    "        super(SimpleCNN, self).__init__()\n",
    "\n",
    "        # --------- Convolutional Layers ------------\n",
    "        self.conv1 = nn.Conv2d(in_channels=1, out_channels=32, kernel_size=2, stride=2, padding=0)\n",
    "        self.relu1 = nn.ReLU()\n",
    "\n",
    "        self.conv2 = nn.Conv2d(in_channels=32, out_channels=64, kernel_size=2, stride=2, padding=1)\n",
    "        self.relu2 = nn.ReLU()\n",
    "\n",
    "        self.conv3 = nn.Conv2d(in_channels=64, out_channels=128, kernel_size=2, stride=2, padding=0)\n",
    "        self.relu3 = nn.ReLU()\n",
    "        # ---------- Flatten to become MLP's input -----------\n",
    "        self.flatten = nn.Flatten()\n",
    "        fc_input_size = 128 * 4 * 4\n",
    "        # ---------- Multi Layer Perceptron ---------------\n",
    "        # Only one hidden layer for classification\n",
    "        self.fc1 = nn.Linear(in_features=fc_input_size, out_features=250)\n",
    "        self.relu4 = nn.ReLU()\n",
    "        self.fc2 = nn.Linear(in_features=250, out_features=num_classes)\n",
    "\n",
    "    def forward(self, x):\n",
    "        # First convolution: from 1x1x28x28 to 1x32x14x14\n",
    "        x = self.conv1(x)\n",
    "        x = self.relu1(x)\n",
    "        # Second Convolution: from 1x32x14x14 to 1x64x8x8\n",
    "        x = self.conv2(x)\n",
    "        x = self.relu2(x)\n",
    "        # Third Convolution: from 1x64x8x8 to 1x128x4x4\n",
    "        x = self.conv3(x)\n",
    "        x = self.relu3(x)\n",
    "        # Flatten\n",
    "        x = self.flatten(x)\n",
    "        # MLP\n",
    "        x = self.fc1(x)\n",
    "        x = self.relu4(x)\n",
    "        x = self.fc2(x)\n",
    "\n",
    "        return x\n",
    "    \n",
    "# No bias version of the model\n",
    "class SimpleCNN_no_bias(nn.Module):\n",
    "    def __init__(self, num_classes=10):\n",
    "        super(SimpleCNN_no_bias, self).__init__()\n",
    "\n",
    "        # --------- Convolutional Layers ------------\n",
    "        self.conv1 = nn.Conv2d(in_channels=1, out_channels=32, kernel_size=2, stride=2, padding=0, bias=False)\n",
    "        self.relu1 = nn.ReLU()\n",
    "\n",
    "        self.conv2 = nn.Conv2d(in_channels=32, out_channels=64, kernel_size=2, stride=2, padding=1, bias=False)\n",
    "        self.relu2 = nn.ReLU()\n",
    "\n",
    "        self.conv3 = nn.Conv2d(in_channels=64, out_channels=128, kernel_size=2, stride=2, padding=0, bias=False)\n",
    "        self.relu3 = nn.ReLU()\n",
    "        # ---------- Flatten to become MLP's input -----------\n",
    "        self.flatten = nn.Flatten()\n",
    "        fc_input_size = 128 * 4 * 4\n",
    "        # ---------- Multi Layer Perceptron ---------------\n",
    "        # Only one hidden layer for classification\n",
    "        self.fc1 = nn.Linear(in_features=fc_input_size, out_features=250)\n",
    "        self.relu4 = nn.ReLU()\n",
    "        self.fc2 = nn.Linear(in_features=250, out_features=num_classes)\n",
    "\n",
    "    def forward(self, x):\n",
    "        # First convolution: from 1x1x28x28 to 1x32x14x14\n",
    "        x = self.conv1(x)\n",
    "        x = self.relu1(x)\n",
    "        # Second Convolution: from 1x32x14x14 to 1x64x8x8\n",
    "        x = self.conv2(x)\n",
    "        x = self.relu2(x)\n",
    "        # Third Convolution: from 1x64x8x8 to 1x128x4x4\n",
    "        x = self.conv3(x)\n",
    "        x = self.relu3(x)\n",
    "        # Flatten\n",
    "        x = self.flatten(x)\n",
    "        # MLP\n",
    "        x = self.fc1(x)\n",
    "        x = self.relu4(x)\n",
    "        x = self.fc2(x)\n",
    "\n",
    "        return x\n",
    "\n",
    "# # 2.------------------ CNN's Dataset declaration ----------------------\n",
    "\n",
    "# class CNNDataset(Dataset):\n",
    "#     def __init__(self, digits, labels, transform=None):\n",
    "#         assert len(digits) == len(labels), \"Number of digits and labels doesn't match\"\n",
    "#         self.digits = digits\n",
    "#         self.labels = labels\n",
    "\n",
    "#     def __len__(self):\n",
    "#         return len(self.digits)\n",
    "\n",
    "#     def __getitem__(self, idx):\n",
    "#         digit = self.digits[idx]\n",
    "#         label = self.labels[idx]\n",
    "#         digit = digit.unsqueeze(0) # Needed operation to add the dimension of greyscale images (28,28) -> (1,28,28)\n",
    "#         return digit, label\n",
    "\n",
    "# tri = torch.from_numpy(train_images).float() / 255\n",
    "# trl = torch.from_numpy(train_labels).float()\n",
    "# tsi = torch.from_numpy(test_images).float() / 255\n",
    "# tsl = torch.from_numpy(test_labels).float()\n",
    "\n",
    "# train_dataset = CNNDataset(tri,trl)\n",
    "# test_dataset = CNNDataset(tsi,tsl)\n",
    "\n",
    "# batch_size = 128\n",
    "# train_loader = DataLoader(train_dataset, batch_size=batch_size, shuffle=True)\n",
    "# test_loader = DataLoader(test_dataset, batch_size=batch_size, shuffle=False)\n",
    "\n",
    "# # 3.------ Training Setup ---------------\n",
    "\n",
    "# device = torch.device(\"cuda\" if torch.cuda.is_available() else \"cpu\")\n",
    "\n",
    "# print(f\"device: {device}\")\n",
    "\n",
    "# model = SimpleCNN(num_classes=10).to(device)\n",
    "\n",
    "# # Loss definition\n",
    "# criterion = nn.CrossEntropyLoss() \n",
    "\n",
    "# # Optimisation definition\n",
    "# learning_rate = 0.001\n",
    "# optimizer = optim.Adam(model.parameters(), lr=learning_rate)\n",
    "\n",
    "# num_epochs = 5 \n",
    "\n",
    "# # 4.------- cycle training ------\n",
    "\n",
    "# print(\"\\nStarting Training...\")\n",
    "# for epoch in range(num_epochs):\n",
    "\n",
    "#     model.train() \n",
    "\n",
    "#     running_loss = 0.0\n",
    "#     start_time = time.time()\n",
    "#     #tqdm is module used to have a progress bar\n",
    "#     progress_bar = tqdm(train_loader, desc=f\"Epoch {epoch+1}/{num_epochs}\", leave=False)\n",
    "\n",
    "#     for inputs, labels in progress_bar:\n",
    "\n",
    "#         # move data on the device\n",
    "#         inputs, labels = inputs.to(device), labels.to(device)\n",
    "\n",
    "#         # make all gradients zero to avoid learning on gradients of previous steps\n",
    "#         optimizer.zero_grad()\n",
    "\n",
    "#         # Forward pass\n",
    "#         outputs = model(inputs) \n",
    "#         # loss computation\n",
    "#         loss = criterion(outputs, labels)\n",
    "\n",
    "#         # Backward pass: compute the gradients\n",
    "#         loss.backward()\n",
    "\n",
    "#         # Weights update\n",
    "#         optimizer.step()\n",
    "\n",
    "#         # Update the loss\n",
    "#         running_loss += loss.item() * inputs.size(0) # multiply for batch size to obtain the correct mean\n",
    "\n",
    "#         # Update the progress bar\n",
    "#         progress_bar.set_postfix(loss=f\"{loss.item():.4f}\")\n",
    "\n",
    "#     # Epochs' mean loss computation\n",
    "#     epoch_loss = running_loss / len(train_loader.dataset)\n",
    "#     epoch_time = time.time() - start_time\n",
    "\n",
    "#     print(f\"Epoch {epoch+1}/{num_epochs} - Tempo: {epoch_time:.2f}s - Training Loss: {epoch_loss:.4f}\")\n",
    "\n",
    "#     # --- Test evaluation (after every epoch) ---\n",
    "#     model.eval()\n",
    "#     test_loss = 0.0\n",
    "#     correct = 0\n",
    "#     total = 0\n",
    "\n",
    "#     with torch.no_grad(): # Disable gradient computation (we don't need gradients since we don't want to update the model in this phase)\n",
    "#         i=0\n",
    "#         for inputs, labels in test_loader:\n",
    "#             if i >= 1:\n",
    "#                 continue\n",
    "#             inputs, labels = inputs.to(device), labels.to(device)\n",
    "#             outputs = model(inputs)\n",
    "#             loss = criterion(outputs, labels)\n",
    "#             test_loss += loss.item() * inputs.size(0)\n",
    "#             _, predicted = torch.max(outputs.data, 1) # Obtain index with the maximum probability (it is our result)\n",
    "#             _,labels = torch.max(labels,1) # same for the test labels\n",
    "#             total += labels.size(0)\n",
    "#             correct += (predicted==labels).sum().item()\n",
    "#             i+=1\n",
    "\n",
    "#     avg_test_loss = test_loss / len(test_loader.dataset)\n",
    "#     accuracy = 100 * correct / total\n",
    "#     print(f\"Epoch {epoch+1}/{num_epochs} - Test Loss: {avg_test_loss:.4f} - Test Accuracy: {accuracy:.2f}%\")\n",
    "\n",
    "\n",
    "# print(\"\\nTraining Complete.\")\n",
    "# #2m 9.4 secondi per avere un'epoca con cuda\n",
    "# # save the model\n",
    "# torch.save(model.state_dict(), 'simple_cnn_mnist.pth')"
   ]
  },
  {
   "cell_type": "markdown",
   "id": "7dc8a955",
   "metadata": {},
   "source": [
    "### Extracting Pre-trained Weights from PyTorch Model"
   ]
  },
  {
   "cell_type": "markdown",
   "id": "b5ee8995",
   "metadata": {},
   "source": [
    "This section loads weights from a pre-trained PyTorch model (`simple_cnn_mnist.pth`) and converts them into NumPy arrays. These NumPy weights will be used for our custom CNN implementations to ensure consistency for inference comparisons."
   ]
  },
  {
   "cell_type": "code",
   "execution_count": 6,
   "id": "6e62c6d0",
   "metadata": {},
   "outputs": [
    {
     "name": "stdout",
     "output_type": "stream",
     "text": [
      "⛏️ Weights and Bias Extraction ⛏️\n",
      "\n",
      "k1: PyTorch Shape=(32, 1, 2, 2), NumPy Shape=(32, 1, 2, 2)\n",
      "b_conv1: NumPy Shape=(32,)\n",
      "k2: PyTorch Shape=(64, 32, 2, 2), NumPy Shape=(64, 32, 2, 2)\n",
      "b_conv2: NumPy Shape=(64,)\n",
      "k3: PyTorch Shape=(128, 64, 2, 2), NumPy Shape=(128, 64, 2, 2)\n",
      "b_conv3: NumPy Shape=(128,)\n",
      "w1: PyTorch Shape=(250, 2048), NumPy Shape=(2048, 250)\n",
      "b1: PyTorch Shape=(250,), NumPy Shape=(1, 250)\n",
      "w2: PyTorch Shape=(10, 250), NumPy Shape=(250, 10)\n",
      "b2: PyTorch Shape=(10,), NumPy Shape=(1, 10)\n",
      "\n",
      "Extraction complete. Numpy weights are in the dictionary 'numpy_weights'.\n"
     ]
    }
   ],
   "source": [
    "model = SimpleCNN(num_classes=10)\n",
    "model.load_state_dict(torch.load('simple_cnn_mnist.pth', map_location=torch.device('cpu'),weights_only=True)) # Carica su CPU\n",
    "\n",
    "model.eval() # A good practice is to set model in evaluation when you want to extract weights\n",
    "\n",
    "# --- Parameters Extraction ⛏️ and Numpy Conversion ---\n",
    "\n",
    "# Weights container\n",
    "numpy_weights = {}\n",
    "\n",
    "# Move model on cpu\n",
    "model.to('cpu')\n",
    "\n",
    "print(\"⛏️ Weights and Bias Extraction ⛏️\\n\")\n",
    "\n",
    "# Layer Conv1\n",
    "# PyTorch weight shape: (out_channels, in_channels, kernel_height, kernel_width)\n",
    "# NumPy expected: (in_channels, out_channels, kernel_width, kernel_height) -> (1, 32, 3, 3)\n",
    "pytorch_weights_of_kernels_in_layer_1 = model.conv1.weight.data.detach().numpy()\n",
    "# Transpose: (out, in, kH, kW) -> (in, out, kW, kH)\n",
    "numpy_weights['k1'] = pytorch_weights_of_kernels_in_layer_1\n",
    "\n",
    "# PyTorch bias shape: (out_channels,)\n",
    "numpy_weights['b_conv1'] = model.conv1.bias.data.detach().numpy() # Shape (32,)\n",
    "print(f\"k1: PyTorch Shape={pytorch_weights_of_kernels_in_layer_1.shape}, NumPy Shape={numpy_weights['k1'].shape}\")\n",
    "print(f\"b_conv1: NumPy Shape={numpy_weights['b_conv1'].shape}\")\n",
    "\n",
    "# Layer Conv2\n",
    "# PyTorch weight shape: (64, 32, 3, 3)\n",
    "# NumPy expected: (32, 64, 3, 3)\n",
    "pytorch_weights_of_kernels_in_layer_2 = model.conv2.weight.data.detach().numpy()\n",
    "numpy_weights['k2'] = pytorch_weights_of_kernels_in_layer_2\n",
    "numpy_weights['b_conv2'] = model.conv2.bias.data.detach().numpy() # Shape (64,)\n",
    "print(f\"k2: PyTorch Shape={pytorch_weights_of_kernels_in_layer_2.shape}, NumPy Shape={numpy_weights['k2'].shape}\")\n",
    "print(f\"b_conv2: NumPy Shape={numpy_weights['b_conv2'].shape}\")\n",
    "\n",
    "# Layer Conv3\n",
    "# PyTorch weight shape: (128, 64, 3, 3)\n",
    "# NumPy expected: (64, 128, 3, 3)\n",
    "pytorch_weights_of_kernels_in_layer_3 = model.conv3.weight.data.detach().numpy()\n",
    "numpy_weights['k3'] = pytorch_weights_of_kernels_in_layer_3\n",
    "numpy_weights['b_conv3'] = model.conv3.bias.data.detach().numpy() # Shape (128,)\n",
    "print(f\"k3: PyTorch Shape={pytorch_weights_of_kernels_in_layer_3.shape}, NumPy Shape={numpy_weights['k3'].shape}\")\n",
    "print(f\"b_conv3: NumPy Shape={numpy_weights['b_conv3'].shape}\")\n",
    "\n",
    "# Layer FC1\n",
    "# PyTorch weight shape: (out_features, in_features) -> (250, 2048)\n",
    "# NumPy expected (per input @ W): (in_features, out_features) -> (2048, 250)\n",
    "pytorch_fc1_layer_weights = model.fc1.weight.data.detach().numpy()\n",
    "numpy_weights['w1'] = pytorch_fc1_layer_weights.T # Trasponi\n",
    "# PyTorch bias shape: (out_features,) -> (250,)\n",
    "# NumPy expected (per aggiunta diretta): (1, out_features) -> (1, 250)\n",
    "pytorch_fc1_layer_biases = model.fc1.bias.data.detach().numpy()\n",
    "numpy_weights['b1'] = pytorch_fc1_layer_biases.reshape(1, -1) # Rendi (1, 250)\n",
    "print(f\"w1: PyTorch Shape={pytorch_fc1_layer_weights.shape}, NumPy Shape={numpy_weights['w1'].shape}\")\n",
    "print(f\"b1: PyTorch Shape={pytorch_fc1_layer_biases.shape}, NumPy Shape={numpy_weights['b1'].shape}\")\n",
    "\n",
    "# Layer FC2\n",
    "# PyTorch weight shape: (num_classes, 250) -> (10, 250)\n",
    "# NumPy expected: (250, num_classes) -> (250, 10)\n",
    "pytorch_fc2_layer_weights = model.fc2.weight.data.detach().numpy()\n",
    "numpy_weights['w2'] = pytorch_fc2_layer_weights.T # Trasponi\n",
    "# PyTorch bias shape: (num_classes,) -> (10,)\n",
    "# NumPy expected: (1, num_classes) -> (1, 10)\n",
    "pytorch_fc2_layer_biases = model.fc2.bias.data.detach().numpy()\n",
    "numpy_weights['b2'] = pytorch_fc2_layer_biases.reshape(1, -1) # Rendi (1, 10)\n",
    "print(f\"w2: PyTorch Shape={pytorch_fc2_layer_weights.shape}, NumPy Shape={numpy_weights['w2'].shape}\")\n",
    "print(f\"b2: PyTorch Shape={pytorch_fc2_layer_biases.shape}, NumPy Shape={numpy_weights['b2'].shape}\")\n",
    "\n",
    "print(\"\\nExtraction complete. Numpy weights are in the dictionary 'numpy_weights'.\")\n",
    "\n",
    "# Access Example:\n",
    "np_k1 = numpy_weights['k1']\n",
    "np_b_conv1 = numpy_weights['b_conv1']\n",
    "np_k2 = numpy_weights['k2']\n",
    "np_b_conv2 = numpy_weights['b_conv2']\n",
    "np_k3 = numpy_weights['k3']\n",
    "np_b_conv3 = numpy_weights['b_conv3']\n",
    "np_w1 = numpy_weights['w1']\n",
    "np_b1 = numpy_weights['b1']\n",
    "np_w2 = numpy_weights['w2']\n",
    "np_b2 = numpy_weights['b2']"
   ]
  },
  {
   "cell_type": "markdown",
   "id": "0a06822b",
   "metadata": {},
   "source": [
    "## CNN - NumPy implementation"
   ]
  },
  {
   "cell_type": "markdown",
   "id": "ba3c17c8",
   "metadata": {},
   "source": [
    "### Padding"
   ]
  },
  {
   "cell_type": "markdown",
   "id": "294ca069",
   "metadata": {},
   "source": [
    "Zero-padding adds a border of zeros around an input image or feature map before convolution. For example:\n",
    "\n",
    "$$\n",
    "\\begin{bmatrix}\n",
    "1 & 2 & 3 \\\\\n",
    "4 & 5 & 6 \\\\\n",
    "7 & 8 & 9\n",
    "\\end{bmatrix}\n",
    "\\quad \\xrightarrow{\\textcolor{lightgreen}{\\textnormal{zero padding}}} \\quad\n",
    "\\begin{bmatrix}\n",
    "\\textcolor{lightgreen}{0} & \\textcolor{lightgreen}{0} & \\textcolor{lightgreen}{0} & \\textcolor{lightgreen}{0} & \\textcolor{lightgreen}{0} \\\\\n",
    "\\textcolor{lightgreen}{0} & 1 & 2 & 3 & \\textcolor{lightgreen}{0} \\\\\n",
    "\\textcolor{lightgreen}{0} & 4 & 5 & 6 & \\textcolor{lightgreen}{0} \\\\\n",
    "\\textcolor{lightgreen}{0} & 7 & 8 & 9 & \\textcolor{lightgreen}{0} \\\\\n",
    "\\textcolor{lightgreen}{0} & \\textcolor{lightgreen}{0} & \\textcolor{lightgreen}{0} & \\textcolor{lightgreen}{0} & \\textcolor{lightgreen}{0}\n",
    "\\end{bmatrix}\n",
    "$$\n",
    "\n",
    "It's important for:\n",
    "\n",
    "1.  **Controlling Output Spatial Dimensions:** Padding can be used to maintain or control the reduction in height/width of feature maps. The output dimension (e.g., height $O_H$) is given by:\n",
    "    $$ O_H = \\left\\lfloor \\frac{I_H - K_H + 2P_H}{S_H} \\right\\rfloor + 1 $$\n",
    "    where $I_H$ is input height, $K_H$ kernel height, $P_H$ padding on one side of height, and $S_H$ stride.\n",
    "2.  **Improving Feature Extraction at Borders:** Allows the kernel to process edge pixels more effectively."
   ]
  },
  {
   "cell_type": "code",
   "execution_count": 7,
   "id": "b70273b1",
   "metadata": {},
   "outputs": [
    {
     "name": "stdout",
     "output_type": "stream",
     "text": [
      "[[[[ 1  2  3]\n",
      "   [ 4  5  6]\n",
      "   [ 7  8  9]]\n",
      "\n",
      "  [[10 11 12]\n",
      "   [13 14 15]\n",
      "   [16 17 18]]]\n",
      "\n",
      "\n",
      " [[[19 20 21]\n",
      "   [22 23 24]\n",
      "   [25 26 27]]\n",
      "\n",
      "  [[28 29 30]\n",
      "   [31 32 33]\n",
      "   [34 35 36]]]]\n",
      "[[[[ 0  0  0  0  0]\n",
      "   [ 0  1  2  3  0]\n",
      "   [ 0  4  5  6  0]\n",
      "   [ 0  7  8  9  0]\n",
      "   [ 0  0  0  0  0]]\n",
      "\n",
      "  [[ 0  0  0  0  0]\n",
      "   [ 0 10 11 12  0]\n",
      "   [ 0 13 14 15  0]\n",
      "   [ 0 16 17 18  0]\n",
      "   [ 0  0  0  0  0]]]\n",
      "\n",
      "\n",
      " [[[ 0  0  0  0  0]\n",
      "   [ 0 19 20 21  0]\n",
      "   [ 0 22 23 24  0]\n",
      "   [ 0 25 26 27  0]\n",
      "   [ 0  0  0  0  0]]\n",
      "\n",
      "  [[ 0  0  0  0  0]\n",
      "   [ 0 28 29 30  0]\n",
      "   [ 0 31 32 33  0]\n",
      "   [ 0 34 35 36  0]\n",
      "   [ 0  0  0  0  0]]]]\n"
     ]
    }
   ],
   "source": [
    "image_3_by_3 = np.arange(1,37).reshape(2,2,3,3)\n",
    "padded_image_3_by_3 = np.pad(image_3_by_3,((0,0),(0,0),(1,1),(1,1)))\n",
    "print(image_3_by_3)\n",
    "print(padded_image_3_by_3)"
   ]
  },
  {
   "cell_type": "markdown",
   "id": "f00035f0",
   "metadata": {},
   "source": [
    "### Matrix Dilatation"
   ]
  },
  {
   "cell_type": "markdown",
   "id": "aea6aa4a",
   "metadata": {},
   "source": [
    "**Relevance in Backpropagation for $\\frac{\\partial L}{\\partial X}$:**\n",
    "\n",
    "This dilation operation is a critical step when computing the gradient of the loss with respect to the input of a convolutional layer ($\\frac{\\partial L}{\\partial X}$), especially if the forward pass utilized a stride $S > 1$. Here is why:\n",
    "* When a forward convolution uses a stride $S > 1$, it effectively downsamples the input, resulting in an output feature map $Z$ with smaller spatial dimensions.\n",
    "* To calculate $\\frac{\\partial L}{\\partial X}$, we need to use the gradient flowing back from the subsequent layer, $\\frac{\\partial L}{\\partial Z}$ (where $Z$ is the output of the strided convolution). **Since the original input $X$ has larger spatial dimensions than $Z$, the gradient $\\frac{\\partial L}{\\partial Z}$ must be \"upsampled\" or \"spread out\" before it can be convolved with the kernel weights to produce a gradient of the correct shape for $X$.**\n",
    "\n",
    "**Dilation Step:** This upsampling is achieved by inserting $S-1$ rows and columns of zeros between the elements of $\\frac{\\partial L}{\\partial Z}$.\n",
    "\n",
    "After $\\frac{\\partial L}{\\partial Z}$ is dilated to form $\\left(\\frac{\\partial L}{\\partial Z}\\right)_{dilated}$, it is then typically padded (with $K-1$ zeros where $K$ is the kernel dimension, adjusted for any original padding) and subsequently convolved with the 180-degree rotated (or flipped) kernel ($W_{rot180}$). This entire sequence of operations (padding the dilated output gradient and convolving it with the flipped kernel) is what yields $\\frac{\\partial L}{\\partial X}$ and is often referred to as a \"full convolution\" in this context (see \"A guide to convolution arithmetic for deep learning\" by Dumoulin and Visin, or the provided articles by Mayank Kaushik).\n",
    "\n",
    "The image below illustrates the concept of dilating an output gradient tensor. This dilation is a preparatory step before the gradient is used in further convolution operations during backpropagation for layers that had striding in their forward pass.\n",
    "\n",
    "<figure style=\"text-align: center;\">\n",
    "    <img src=\"https://miro.medium.com/v2/resize:fit:1100/format:webp/1*luRORFyTmj9mJ7rVhzlbZA.png\" height=250, style=\"border-radius:20px;\">\n",
    "</figure>\n",
    "\n",
    "Illustrative example of dilating an output gradient tensor (like $\\frac{\\partial L}{\\partial Z}$) by inserting $S-1$ (stride minus one) zeros. In this case, $S=2$, so one row and one column of zeros is inserted between elements.\n",
    "<div style=\"text-align:center;\"><p><i><a href=\"https://medium.com/@mayank.utexas/backpropagation-for-convolution-with-strides-8137e4fc2710\">(Source: Backpropagation for Convolution with Strides, Mayank Kaushik)</a></i><p></div>"
   ]
  },
  {
   "cell_type": "code",
   "execution_count": 8,
   "id": "1bd18f74",
   "metadata": {},
   "outputs": [
    {
     "name": "stdout",
     "output_type": "stream",
     "text": [
      "Dilatation in case of original stride = 3\n",
      "Original Image Shape: (1, 1, 2, 2)\n",
      "Dilated Image Shape: (1, 1, 4, 4)\n"
     ]
    },
    {
     "data": {
      "image/png": "[encoded data removed]",
      "text/plain": [
       "<Figure size 500x200 with 2 Axes>"
      ]
     },
     "metadata": {},
     "output_type": "display_data"
    }
   ],
   "source": [
    "def dilate(tensor, stride):\n",
    "    if stride == 1:\n",
    "        return tensor\n",
    "\n",
    "    batch_size, num_channels, height, width = tensor.shape\n",
    "    \n",
    "    dilated_height = height + (height - 1) * (stride - 1)\n",
    "    dilated_width = width + (width - 1) * (stride - 1)\n",
    "    \n",
    "    dilated_tensor = np.zeros((batch_size, num_channels, dilated_height, dilated_width)).astype(tensor.dtype)\n",
    "    dilated_tensor[:, :, ::stride, ::stride] = tensor\n",
    "    return dilated_tensor\n",
    "\n",
    "# Example usage of dilate function\n",
    "example_image = np.arange(5, 9).reshape(1, 1, 2, 2)\n",
    "dilated_image = dilate(example_image, 3)\n",
    "print(\"Dilatation in case of original stride = 3\")\n",
    "print(\"Original Image Shape:\", example_image.shape)\n",
    "print(\"Dilated Image Shape:\", dilated_image.shape)\n",
    "\n",
    "fig, axs = plt.subplots(1, 2, figsize=(5, 2), gridspec_kw={'width_ratios': [0.3, 1]})\n",
    "plt.subplot(1, 2, 1)\n",
    "plt.imshow(example_image[0, 0], cmap='gray', vmin=0, vmax=8)\n",
    "plt.xticks([0, 1], [1, 2])\n",
    "plt.yticks([0, 1], [1, 2])\n",
    "plt.title('Original Image')\n",
    "plt.subplot(1, 2, 2)\n",
    "plt.imshow(dilated_image[0, 0], cmap='gray', vmin=0, vmax=8)\n",
    "plt.xticks([0, 1, 2, 3], [1, 2, 3, 4])\n",
    "plt.yticks([0, 1, 2, 3], [1, 2, 3, 4])\n",
    "plt.title('Dilated Image')\n",
    "plt.show()"
   ]
  },
  {
   "cell_type": "markdown",
   "id": "fa841de1",
   "metadata": {},
   "source": [
    "### Benchmark network (debug and testing purpose)"
   ]
  },
  {
   "cell_type": "code",
   "execution_count": 9,
   "id": "05c783ab",
   "metadata": {},
   "outputs": [],
   "source": [
    "import torch\n",
    "import torch.nn.functional as F\n",
    "from torch import nn\n",
    "\n",
    "class TesterCNN(nn.Module):\n",
    "    def __init__(self, kernels: torch.Tensor, biases: torch.Tensor = None, stride=1, padding=0):\n",
    "        super().__init__()\n",
    "        out_ch, in_ch, k_h, k_w = kernels.shape\n",
    "        self.stride = stride\n",
    "        self.padding = padding\n",
    "        \n",
    "        self.conv = nn.Conv2d(in_channels=in_ch,\n",
    "                              out_channels=out_ch,\n",
    "                              kernel_size=(k_h, k_w),\n",
    "                              stride=stride,\n",
    "                              padding=padding,\n",
    "                              bias=(biases is not None))\n",
    "        with torch.no_grad():\n",
    "            self.conv.weight.copy_(kernels)\n",
    "            if biases is not None:\n",
    "                self.conv.bias.copy_(biases)\n",
    "\n",
    "        self.conv.weight.requires_grad_(False)\n",
    "        if biases is not None:\n",
    "            self.conv.bias.requires_grad_(False)\n",
    "\n",
    "    def forward(self, x: torch.Tensor) -> torch.Tensor:\n",
    "        return F.relu(self.conv(x))"
   ]
  },
  {
   "cell_type": "markdown",
   "id": "817601c0",
   "metadata": {},
   "source": [
    "## Nested-Loops Approach"
   ]
  },
  {
   "cell_type": "markdown",
   "id": "d4351c2f",
   "metadata": {},
   "source": [
    "### Nested-Loops Approach: Convolutional Layer - Forward"
   ]
  },
  {
   "cell_type": "markdown",
   "id": "4a26d187",
   "metadata": {},
   "source": [
    "`nested_loop_convolution` implements a 2D convolution followed by ReLU activation using explicit nested loops. This is computationally highly inefficient.\n",
    "\n",
    "**Inputs:**\n",
    "    *   `batch_of_images`: size `(N, C_in, H_in, W_in)`.\n",
    "    *   `kernels`: size `(C_out, C_in, K_H, K_W)`.\n",
    "    *   `biases`: Per-filter biases `(C_out,)`.\n",
    "\n",
    "**Steps:**\n",
    "1.  **Padding & Output Size:** Input `batch_of_images` is padded to better extract information from tha borders of the images. Output dimensions $(O_H, O_W)$ are calculated using the formula in the Padding section.\n",
    "2.  **Convolution:** The convolution is computed explicitly, iterating over each element of the patches from the input tensor and multiplying them by the \"sliding\" kernels. For each output element $(n, f, y_{out}, x_{out})$:\n",
    "    $$ \\text{Output}(n, f, y_{out}, x_{out}) = \\left( \\sum_{c=0}^{C_{in}-1} \\sum_{k_y=0}^{K_H-1} \\sum_{k_x=0}^{K_W-1} \\text{Img}_{pad}(n, c, y_{out}S + k_y, x_{out}S + k_x) \\cdot \\text{Ker}(f, c, k_y, k_x) \\right) + \\text{Bias}(f) $$\n",
    "3.  **ReLU Activation:** If `applyReLU=True`: $\\text{ActivatedOutput} = \\max(0, \\text{Output})$. A binary `mask` (1 where Output > 0, else 0) is also returned for backpropagation.\n",
    "\n",
    "<figure style=\"text-align:center;\">\n",
    "    <img src=\"https://raw.githubusercontent.com/iamaaditya/iamaaditya.github.io/refs/heads/master/images/conv_arithmetic/full_padding_no_strides_transposed.gif\" height=\"250\", style=\"border-radius:20px;\"/>\n",
    "    <figcaption>Convolution of a 7x7 image (blue) with a 3x3 kernel (gray), resulting in a 5x5 output (green). <br><i><a href\"https://arxiv.org/pdf/1603.07285\">(Source: A guide to convolution arithmetic for deep learning - Dumoulin & Visin)</a></i>"
   ]
  },
  {
   "cell_type": "code",
   "execution_count": 10,
   "id": "a51071b3",
   "metadata": {},
   "outputs": [
    {
     "name": "stdout",
     "output_type": "stream",
     "text": [
      "-------example_image--------\n",
      "[[[[1. 2. 3.]\n",
      "   [4. 5. 6.]\n",
      "   [7. 8. 9.]]]]\n",
      "-------example_kernel-------\n",
      "[[[[1 2]\n",
      "   [3 4]]]\n",
      "\n",
      "\n",
      " [[[5 6]\n",
      "   [7 8]]]]\n",
      "-------Nested-Loop approach-------\n",
      "[[[[  5.  19.]\n",
      "   [ 37.  78.]]\n",
      "\n",
      "  [[ 10.  40.]\n",
      "   [ 82. 191.]]]]\n",
      "-------PyTorch model-------\n",
      "tensor([[[[  5.,  19.],\n",
      "          [ 37.,  78.]],\n",
      "\n",
      "         [[ 10.,  40.],\n",
      "          [ 82., 191.]]]])\n"
     ]
    }
   ],
   "source": [
    "def nested_loop_convolution(batch_of_images, kernels, biases=np.array(0), padding=0, stride=1, applyReLU=True):\n",
    "    if applyReLU: # Forward case\n",
    "        output_channels, input_channels, kernel_width, kernel_height = kernels.shape\n",
    "        kernel_channels = output_channels\n",
    "    else: # Backward case\n",
    "        input_channels, output_channels, kernel_width, kernel_height = kernels.shape\n",
    "        kernel_channels = input_channels\n",
    "\n",
    "    # biases has shape (output_channels, 1, 1). It's a scalar value for each channel broadcasted to the kernel's width and height\n",
    "    # The number of channels taken in input by the kernel 'input_channels' must be the same as the number of channels of the image 'channels'\n",
    "\n",
    "    batch_of_images = np.pad(batch_of_images,((0,0),(0,0),(padding,padding),(padding,padding)))\n",
    "    batch_size, channels, image_height, image_width  = batch_of_images.shape\n",
    "    output_image_height = int(((image_height - kernel_height) / stride) + 1) # new image height # Padding is already added\n",
    "    output_image_width = int(((image_width - kernel_width) / stride) + 1) # new image width\n",
    "    output = np.zeros((batch_size, output_channels, output_image_height, output_image_width)).astype(np.float32) # new image\n",
    "\n",
    "    if input_channels != channels:\n",
    "        raise ValueError(f\"number of channels taken in input by the kernel ({input_channels}) must be the same as the number of channels of the image ({channels})\")\n",
    "\n",
    "    for single_image in range(batch_size):\n",
    "        for single_kernel_channel in range(kernel_channels):\n",
    "            for output_row_idx in range(output_image_height): # which cycles row by row of the new image\n",
    "                for output_col_idx in range(output_image_width): # which cycles column by column of the new image\n",
    "                    output_cell_accumulator = 0.0  # sum for the current output cell (accumulates the convolution result)\n",
    "                    # Convolution cycles\n",
    "                    for channel in range(input_channels): # channels == input_channels\n",
    "                        for kernel_row_idx in range(kernel_height):\n",
    "                            # Position of the kernel over the input image: row\n",
    "                            input_row_idx = (output_row_idx * stride) + kernel_row_idx\n",
    "                            for kernel_col_idx in range(kernel_width):\n",
    "                                # Position of the kernel over the input image: column\n",
    "                                input_col_idx = (output_col_idx * stride) + kernel_col_idx\n",
    "\n",
    "                                # Check if the position is inside the image\n",
    "                                if 0 <= input_row_idx < image_height and 0 <= input_col_idx < image_width:\n",
    "                                    input_element = batch_of_images[single_image, channel, input_row_idx, input_col_idx]\n",
    "                                    kernel_element = kernels[single_kernel_channel, channel, kernel_row_idx, kernel_col_idx]\n",
    "                                    # Compute the convolution sum (to be done for each element of the sliding kernel over the image)\n",
    "                                    output_cell_accumulator += (input_element * kernel_element).astype(np.float32)\n",
    "\n",
    "                    # Assign the result to the output image\n",
    "                    output[single_image, single_kernel_channel, output_row_idx, output_col_idx] = output_cell_accumulator\n",
    "\n",
    "    if biases.all() != 0:\n",
    "        biases = biases.reshape(biases.shape[0],1,1)\n",
    "\n",
    "        if biases.shape[0] != output_channels:\n",
    "            raise ValueError(f\"biases dimension ({biases.shape[0]}) doesn't match kernel's number of channels ({output_channels})\")\n",
    "        \n",
    "        output = output + biases\n",
    "\n",
    "    output = output.astype(np.float32)\n",
    "\n",
    "    if applyReLU:\n",
    "        output = np.maximum(0, output)\n",
    "        mask = output.copy()\n",
    "        mask[mask > 0] = 1\n",
    "\n",
    "        return output, mask\n",
    "    else:\n",
    "        return output\n",
    "\n",
    "#-------------------------------------------- Examples --------------------------------------------------------\n",
    "example_image = np.arange(1,3*3+1).reshape(1,1,3,3).astype(np.float32)\n",
    "print(\"-------example_image--------\")\n",
    "print(example_image)\n",
    "\n",
    "example_kernel = np.arange(1,8+1).reshape(2,1,2,2)\n",
    "print(\"-------example_kernel-------\")\n",
    "print(example_kernel)\n",
    "\n",
    "example_biases = np.array([1,2]).reshape(2,1,1)\n",
    "outpout, mask = nested_loop_convolution(example_image, example_kernel, biases=example_biases, padding=1, stride=2)\n",
    "print(\"-------Nested-Loop approach-------\")\n",
    "print(outpout)\n",
    "# print(\"------mask-------\")\n",
    "# print(mask)\n",
    "\n",
    "example_kernel = torch.from_numpy(example_kernel).float()\n",
    "example_biases = torch.from_numpy(np.array([1,2])).float()\n",
    "testerCNNmodel = TesterCNN(kernels=example_kernel,biases=example_biases, stride=2, padding=1)\n",
    "\n",
    "x = torch.from_numpy(example_image)\n",
    "y = testerCNNmodel(x)\n",
    "print(\"-------PyTorch model-------\")\n",
    "print(y)"
   ]
  },
  {
   "cell_type": "markdown",
   "id": "b0bad0a3",
   "metadata": {},
   "source": [
    "### Nested-Loops Approach: Convolutional Layer - Backward"
   ]
  },
  {
   "cell_type": "markdown",
   "id": "aaff4adf",
   "metadata": {},
   "source": [
    "We now need to implement the backward pass of a convolutional layer, calculating the gradients of the loss function with respect to the layer's weights (or kernels) ($W^{(i)}$), biases ($b^{(i)}$), and the layer's input (images) ($X^{(i)}$).\n",
    "\n",
    "**Notation:**\n",
    "*   $L$: The Loss function.\n",
    "*   $X^{(i)}$: The input to convolutional layer $i$.\n",
    "*   $W^{(i)}$: The weights (kernels) of layer $i$.\n",
    "*   $b^{(i)}$: The biases of layer $i$.\n",
    "*   $Z^{(i)}$: The pre-activation output of layer $i$ ($Z^{(i)} = \\text{conv}(X^{(i)}, W^{(i)}) + b^{(i)}$).\n",
    "*   $A^{(i)}$: The activated output of layer $i$ (e.g., $A^{(i)} = \\text{ReLU}(Z^{(i)})$).\n",
    "*   $\\frac{\\partial L}{\\partial A^{(i)}}$: The gradient of the loss with respect to the activated output $A^{(i)}$ of the current layer (propagated from the next layer).\n",
    "*   $\\frac{\\partial L}{\\partial Z^{(i)}}$: The gradient of the loss with respect to the pre-activation output $Z^{(i)}$ of the current layer. This is often denoted as $\\delta^{(i)}$ in your original text after passing through the ReLU derivative.\n",
    "*   $\\text{mask}^{(i)}$: The binary mask derived from the ReLU activation in the forward pass (1 if $Z^{(i)} > 0$, else 0).\n",
    "\n",
    "**Steps:**\n",
    "\n",
    "1.  **Gradient through ReLU Activation (Backward ReLU):**\n",
    "    The derivative of ReLU is 1 for positive inputs and 0 otherwise. This is efficiently implemented by element-wise multiplying the incoming gradient $\\frac{\\partial L}{\\partial A^{(i)}}$ with the `mask` computed during the forward pass.\n",
    "    $$\n",
    "    \\frac{\\partial L}{\\partial Z^{(i)}} = \\frac{\\partial L}{\\partial A^{(i)}} \\odot \\text{mask}^{(i)}\n",
    "    $$\n",
    "    where $\\odot$ denotes the Hadamard (element-wise) product. Henceforth, for brevity, we will denote $\\frac{\\partial L}{\\partial Z^{(i)}}$ as $\\delta_Z^{(i)}$.\n",
    "\n",
    "2.  **Gradient with respect to Weights ($W^{(i)}$):**\n",
    "    To calculate $\\frac{\\partial L}{\\partial W^{(i)}}$, we need to correlate the layer's input $X^{(i)}$ with the pre-activation output gradient $\\delta_Z^{(i)}$. Each weight $W_{f,c,k_y,k_x}$ contributes to multiple elements of the output $Z^{(i)}$. Its gradient is the sum of all these contributions. Mathematically, this is equivalent to a convolution between the input $X^{(i)}$ (appropriately padded as in the forward pass) and the gradient $\\delta_Z^{(i)}$ (which is treated as the \"kernel\" for this convolution).\n",
    "    $$\n",
    "    \\frac{\\partial L}{\\partial W^{(i)}} = \\text{Convolution}(X^{(i)}_{padded}, \\delta_Z^{(i)})\n",
    "    $$\n",
    "    This convolution must always have a stride = 1.\n",
    "* **Dilation of $\\delta_Z^{(i)}$ (if forward stride > 1):** If the forward pass used a stride $S > 1$, $\\delta_Z^{(i)}$ must be dilated by inserting $S-1$ zeros between its elements *before* this convolution for $\\frac{\\partial L}{\\partial W^{(i)}}$. **This technique allows the use of a standard convolution**, where the \"kernel\" ($\\delta_Z^{(i)}$) slides over the \"image\" ($X^{(i)}$), and makes the output's size equal to the one of the original kernel.\n",
    "    \n",
    "    (If $X^{(i)}$ is $(N, C_{in}, H_{in}, W_{in})$ and $\\delta_Z^{(i)}$ is $(N, C_{out}, H_{out}, W_{out})$, the result $\\frac{\\partial L}{\\partial W^{(i)}}$ will have shape $(C_{out}, C_{in}, K_H, K_W)$, as the original kernel.)\n",
    "\n",
    "3.  **Gradient with respect to Input ($X^{(i)}$):**\n",
    "    To propagate the gradient to the previous layer, we also need to calculate $\\frac{\\partial L}{\\partial X^{(i)}}$. This operation is known as a \"Full Convolution\". It involves convolving the gradient $\\delta_Z^{(i)}$ with the kernels $W^{(i)}$ rotated by 180 degrees (or flipped both horizontally and vertically) ($W^{(i)}_{rot180}$).\n",
    "    $$\n",
    "    \\frac{\\partial L}{\\partial X^{(i)}} = \\text{FullConvolution}(\\delta_Z^{(i)}, W^{(i)}_{rot180})\n",
    "    $$\n",
    "    ***Note:*** *The name \"Full Convolution\" refers to the fact that the first term of the operation is padded as much as possible (a larger padding would make some patches contain only zeros, so it would not make sense).*\n",
    "    \n",
    "    Full Convolution is implemented as follows:\n",
    "    *   **Dilation of $\\delta_Z^{(i)}$:** As for the gradient w.r.t. the weights, if the stride $S$ of the forward pass was greater than 1, $\\delta_Z^{(i)}$ is \"dilated\". Let's call this $\\delta_{Z,dilated}^{(i)}$. If $S=1$, $\\delta_{Z,dilated}^{(i)} = \\delta_Z^{(i)}$.\n",
    "    *   **Padding of $\\delta_{Z,dilated}^{(i)}$:** The dilated gradient is padded. If $P_{fwd}$ was the forward pass padding and $K$ the kernel dimension, the padding here is $K-1-P_{fwd}$ on each side.\n",
    "    *   **Convolution:** The padded $\\delta_{Z,dilated}^{(i)}$ is convolved with $W^{(i)}_{rot180}$. The stride of this convolution is always 1.\n",
    "    The result $\\frac{\\partial L}{\\partial X^{(i)}}$ will have the same spatial dimensions as the original input $X^{(i)}$.\n",
    "\n",
    "4.  **Gradient with respect to Biases ($b^{(i)}$):**\n",
    "    Since the bias $b_c^{(i)}$ (corresponding to filter $c$) is added to all elements of channel $c$ of the pre-activation output $Z^{(i)}$, its gradient is simply the sum of all elements of $\\delta_Z^{(i)}$ (the gradient *before* dilation) over that channel, across the spatial dimensions (height and width) and across all examples in the batch.\n",
    "    $$\n",
    "    \\frac{\\partial L}{\\partial b^{(i)}_c} = \\sum_{n} \\sum_{h,w} (\\delta_Z^{(i)})_{n,c,h,w}\n",
    "    $$\n",
    "---\n",
    "<div style=\"text-align:center;\">\n",
    "<b>Visual example of forward and backward pass, with padding = 1 and striding = 2:</b>\n",
    "<div style=\"display:flex; flex-direction:row; justify-content:space-between; align-items:flex-start; margin-top:15px;\">\n",
    "<figure style=\"text-align:center; width:50%; flex-grow:1; margin-top:0px;\">\n",
    "    <img src=\"https://raw.githubusercontent.com/vdumoulin/conv_arithmetic/refs/heads/master/gif/padding_strides.gif\", style=\"border-radius:20px; height:200px;\"/>\n",
    "    <figcaption> The input image (blue) is 5x5, and the kernel (gray) is 3x3. The input has padding = 1 a stride = 2 is used. As we can see, the output is 3x3.</figcaption>\n",
    "</figure>\n",
    "<figure style=\"text-align:center; width:50%; flex-grow:1; margin-top:0px;\">\n",
    "    <img src=\"https://raw.githubusercontent.com/vdumoulin/conv_arithmetic/master/gif/padding_strides_transposed.gif\", style=\"border-radius:20px; height:200px;\"/>\n",
    "    <figcaption>Corresponding backward phase: the output gradient of the previous convolution is the 3x3 blue input. It is padded and dilated by stride-1=2-1=1 and convolved with the rotated kernel (gray) to produce the input gradient (5x5 green output).</figcaption>\n",
    "</figure>\n",
    "</div>\n",
    "<figcaption style=\"text-align:center;\"><i><a href\"https://arxiv.org/pdf/1603.07285\">(Source: A guide to convolution arithmetic for deep learning - Dumoulin & Visin)</a></i>\n",
    "</fgcaption>\n",
    "</div>"
   ]
  },
  {
   "cell_type": "code",
   "execution_count": 11,
   "id": "2a1928d6",
   "metadata": {},
   "outputs": [],
   "source": [
    "def nested_loop_gradient(batch_of_images, d_output_activated, kernels, mask, padding=0, stride=1):\n",
    "    \"\"\"\n",
    "    Performs the backward pass of the convolution layer using nested loops.\n",
    "    It takes the original input image batch, the gradient of the loss w.r.t. the activated output of this layer,\n",
    "    the kernels, forward pass padding, and forward pass stride.\n",
    "    The mask is needed to perform the ReLU backward operation.\n",
    "    Returns:\n",
    "        gradient_wrt_input (dL/dX_current_layer)\n",
    "        gradient_wrt_kernel (dL/dW_current_layer)\n",
    "        gradient_wrt_bias (dL/db_current_layer)\n",
    "    \"\"\"\n",
    "    batch_size, num_input_channels_img, img_height_orig, img_width_orig = batch_of_images.shape\n",
    "    num_output_channels_k, num_input_channels_k, kernel_height, kernel_width = kernels.shape\n",
    "\n",
    "    if num_input_channels_img != num_input_channels_k:\n",
    "        raise ValueError(\"Kernel input channels and image input channels must match.\")\n",
    "\n",
    "    # Backward ReLU: dL/dZ = dL/dA * mask\n",
    "    # d_output_activated is dL/dA (gradient from next layer w.r.t. this layer's activated output)\n",
    "    dLdZ = np.multiply(d_output_activated, mask) # Gradient w.r.t. pre-activation output\n",
    "\n",
    "    # --- Gradient w.r.t. Biases (dL/db) ---\n",
    "    # Sum dLdZ over batch, height, and width dimensions for each output channel\n",
    "    gradient_wrt_bias = np.sum(dLdZ, axis=(0, 2, 3)) # Shape: (num_output_channels_k,)\n",
    "\n",
    "    # --- Gradient w.r.t. Input (dL/dX) ---\n",
    "    # This is a \"full convolution\" of dLdZ_dilated with kernels_rotated_180\n",
    "    dLdZ_dilated = dilate(dLdZ, stride)\n",
    "    \n",
    "    # Padding for the \"full convolution\" to get dL/dX\n",
    "    # Output size O = (I - K + 2P_conv) / S_conv + 1. We want O = img_height_orig\n",
    "    # Here, S_conv = 1. K_eff = kernel_height. I_eff = dLdZ_dilated_height\n",
    "    # So, img_height_orig = dLdZ_dilated_height - kernel_height + 2P_conv + 1\n",
    "    # P_conv_total = img_height_orig - dLdZ_dilated_height + kernel_height - 1\n",
    "    # The provided formula in texts for dL/dX padding is K_fwd - 1 - P_fwd (on each side)\n",
    "    pad_h_dx = kernel_height - 1 - padding\n",
    "    pad_w_dx = kernel_width - 1 - padding\n",
    "\n",
    "    dLdZ_dilated_padded = np.pad(dLdZ_dilated,\n",
    "                                 ((0,0), (0,0), (pad_h_dx, pad_h_dx), (pad_w_dx, pad_w_dx)),\n",
    "                                 mode='constant', constant_values=0)\n",
    "\n",
    "    kernels_rot180 = np.rot90(kernels, 2, axes=(-2, -1)) # Rotate each kernel by 180 deg\n",
    "\n",
    "    gradient_wrt_input = np.zeros_like(batch_of_images, dtype=np.float32)\n",
    "    \n",
    "    # Convolution: dLdZ_dilated_padded with kernels_rot180 (stride 1)\n",
    "    # kernels_rot180 shape: (C_out_k, C_in_k, KH, KW)\n",
    "    # For dL/dX, the \"output channels\" of this conv are C_in_k (original input channels)\n",
    "    # and \"input channels\" are C_out_k (output channels of dLdZ)\n",
    "    \n",
    "    # Iterate over batch\n",
    "    for n in range(batch_size):\n",
    "        # Iterate over output channels of dL/dX (which are input channels of original image)\n",
    "        for c_in_orig in range(num_input_channels_img):\n",
    "            # Iterate over spatial dimensions of dL/dX (original image dimensions)\n",
    "            for r_out_dx in range(img_height_orig):\n",
    "                for c_out_dx in range(img_width_orig):\n",
    "                    current_sum_dx = 0.0\n",
    "                    # Iterate over \"input channels\" for this conv (which are output channels of dLdZ)\n",
    "                    for c_out_fwd in range(num_output_channels_k):\n",
    "                        # Iterate over kernel spatial dimensions\n",
    "                        for kr in range(kernel_height):\n",
    "                            for kc in range(kernel_width):\n",
    "                                r_in_conv = r_out_dx + kr # Stride is 1 for this conv\n",
    "                                c_in_conv = c_out_dx + kc\n",
    "                                \n",
    "                                if 0 <= r_in_conv < dLdZ_dilated_padded.shape[2] and \\\n",
    "                                   0 <= c_in_conv < dLdZ_dilated_padded.shape[3]:\n",
    "                                    val_dLdZ = dLdZ_dilated_padded[n, c_out_fwd, r_in_conv, c_in_conv]\n",
    "                                    # kernel_rot180[c_out_k_idx_as_input_channel, c_in_k_idx_as_output_channel, kr, kc]\n",
    "                                    # For dL/dX: kernel_rot180 \"output channels\" map to C_in_orig\n",
    "                                    # \"input channels\" map to C_out_fwd (dLdZ channels)\n",
    "                                    # kernels_rot180 is (orig_C_out, orig_C_in, KH, KW)\n",
    "                                    # We need kernel_rot180[c_out_fwd, c_in_orig, kr, kc] if thinking about it as transposed conv\n",
    "                                    # Or, if thinking of it as a standard conv:\n",
    "                                    # output_channel_of_conv = c_in_orig\n",
    "                                    # input_channel_of_conv = c_out_fwd\n",
    "                                    # So kernel is kernel_flipped[c_in_orig, c_out_fwd, kr, kc]\n",
    "                                    # Let's use the (C_out_orig, C_in_orig, KH, KW) indexing for kernels_rot180,\n",
    "                                    # and map it to the conv:\n",
    "                                    # kernels_rot180_for_conv_output_c_in_orig_input_c_out_fwd[kr,kc]\n",
    "                                    # = kernels_rot180[c_out_fwd, c_in_orig, kr, kc] (after transposing kernel channels)\n",
    "                                    # This is a bit confusing with nested loops. Let's use the common perspective:\n",
    "                                    # dL/dX[n, c_in, y, x] = sum_{c_out, kh, kw} dL/dZ_dilated_padded[n, c_out, y+kh, x+kw] * W_rot[c_out, c_in, kh, kw]\n",
    "                                    # Or, W_rot has shape (C_in_new, C_out_new, KH, KW)\n",
    "                                    # where C_in_new = C_out_orig, C_out_new = C_in_orig\n",
    "                                    # So kernel is kernels_rot180_conv[c_in_orig, c_out_fwd, kr, kc]\n",
    "                                    # which means we need to permute axes of kernels_rot180 (C_out_k, C_in_k, KH, KW)\n",
    "                                    # to (C_in_k, C_out_k, KH, KW) to treat it as a standard conv kernel\n",
    "                                    # kernels_rot180_permuted = kernels_rot180.transpose(1,0,2,3)\n",
    "                                    # val_kernel = kernels_rot180_permuted[c_in_orig, c_out_fwd, kr, kc]\n",
    "\n",
    "                                    # Simpler: use original kernel indexing and match terms\n",
    "                                    # W_rot180[num_output_channels_k, num_input_channels_k, KH, KW]\n",
    "                                    # dL/dX_c_in[y,x] = sum_{c_out} (dL/dZ_c_out_dilated_padded * W_rot[c_out, c_in, :, :])\n",
    "                                    val_kernel = kernels_rot180[c_out_fwd, c_in_orig, kr, kc]\n",
    "                                    current_sum_dx += val_dLdZ * val_kernel\n",
    "                    gradient_wrt_input[n, c_in_orig, r_out_dx, c_out_dx] = current_sum_dx\n",
    "\n",
    "    # --- Gradient w.r.t. Kernel (dL/dW) ---\n",
    "    # This is a convolution of batch_of_images_padded_fwd with dLdZ (potentially dilated for dW, or use strided access)\n",
    "    # Output should have shape of kernels: (num_output_channels_k, num_input_channels_k, kernel_height, kernel_width)\n",
    "    # dL/dW[c_out, c_in, kr, kc] = sum_{n, r_out, c_out} dL/dZ[n, c_out, r_out, c_out] * X_padded_fwd[n, c_in, r_out*S + kr, c_out*S + kc]\n",
    "    \n",
    "    batch_of_images_padded_fwd = np.pad(batch_of_images,\n",
    "                                     ((0,0), (0,0), (padding,padding), (padding,padding)),\n",
    "                                     mode='constant', constant_values=0)\n",
    "\n",
    "    gradient_wrt_kernel = np.zeros_like(kernels, dtype=np.float32)\n",
    "    \n",
    "    # Iterate over output channels of kernel (filters)\n",
    "    for f_out in range(num_output_channels_k):\n",
    "        # Iterate over input channels of kernel\n",
    "        for c_in_k_idx in range(num_input_channels_k):\n",
    "            # Iterate over kernel spatial dimensions (this defines the dW element we are computing)\n",
    "            for kr_idx in range(kernel_height):\n",
    "                for kc_idx in range(kernel_width):\n",
    "                    current_sum_dw = 0.0\n",
    "                    # Sum over batch\n",
    "                    for n in range(batch_size):\n",
    "                        # Sum over spatial dimensions of dLdZ\n",
    "                        for r_dLdZ in range(dLdZ.shape[2]): # dLdZ height\n",
    "                            for c_dLdZ in range(dLdZ.shape[3]): # dLdZ width\n",
    "                                # Corresponding input patch element from batch_of_images_padded_fwd\n",
    "                                r_in_img = r_dLdZ * stride + kr_idx\n",
    "                                c_in_img = c_dLdZ * stride + kc_idx\n",
    "                                \n",
    "                                if 0 <= r_in_img < batch_of_images_padded_fwd.shape[2] and \\\n",
    "                                   0 <= c_in_img < batch_of_images_padded_fwd.shape[3]:\n",
    "                                    val_img = batch_of_images_padded_fwd[n, c_in_k_idx, r_in_img, c_in_img]\n",
    "                                    val_dLdZ_elem = dLdZ[n, f_out, r_dLdZ, c_dLdZ]\n",
    "                                    current_sum_dw += val_dLdZ_elem * val_img\n",
    "                    gradient_wrt_kernel[f_out, c_in_k_idx, kr_idx, kc_idx] = current_sum_dw\n",
    "    \n",
    "    return gradient_wrt_input, gradient_wrt_kernel, gradient_wrt_bias"
   ]
  },
  {
   "cell_type": "markdown",
   "id": "0ab2fbc0",
   "metadata": {},
   "source": [
    "## Im2Col Approach"
   ]
  },
  {
   "cell_type": "markdown",
   "id": "eae10455",
   "metadata": {},
   "source": [
    "### Im2Col approach: Convolutional Layer - Forward"
   ]
  },
  {
   "cell_type": "markdown",
   "id": "cf90c44f",
   "metadata": {},
   "source": [
    "<html>\n",
    "<head>\n",
    "    <style>\n",
    "    td      {vertical-align: middle;}\n",
    "    body    {text-align: center}\n",
    "    table, th, tr, td {border-collapse: collapse}\n",
    "    </style>\n",
    "</head>\n",
    "<body>\n",
    "<p><code>im2col_convolution</code> implements 2D convolution more efficiently using an Im2Col approach using<code>sliding_window_view</code> and optimized matrix multiplication.</p>\n",
    "\n",
    "<p><strong>Im2Col Core Idea:</strong></p>\n",
    "\n",
    "<table style=\"width: 100%;\">\n",
    "    <tbody>\n",
    "        <tr>\n",
    "            <td style=\"width: 65%; padding: 25px 25px 0 25px;\">\n",
    "                <ol><li><strong>Input Patch Extraction:</strong></li><br>\n",
    "                <ul>\n",
    "                    <li>\n",
    "                        <code>window_m = ... .reshape((-1,(kw*kh*nc)))</code>: Flattens each extracted patch into a row vector of size <code>kw*kh*nc</code>. <code>window_m</code> (our $X_{col}$) thus has shape <code>(N_patches, patch_size)</code>.\n",
    "                    </li>\n",
    "                    <li>\n",
    "                        <code>kernel = kernel.reshape((-1,(kw*kh*nc))).transpose(1,0)</code>: Flattens each filter <code>(kc, ac, kw, kh)</code> -> <code>(kc, ac*kw*kh)</code>. This is $W_{col}$, shape <code>(patch_size, C_out)</code>.\n",
    "                    </li>\n",
    "                </ul>\n",
    "                </ol>\n",
    "                <p>\n",
    "                    Following the example in the animation below, we have a 4x4 RGB image (so <strong>3x4x4</strong>) that has to be convoluted by a <strong>2x2</strong> kernel (represented as the red outlines sliding over the image). The kernel will slide <strong>9</strong> times over the image and, for each slide, the number of multiplications and values to be summed is 4 (elements of the kernel) times 3 (channels of both the image and the kernel) that equals <strong>12</strong>. Hence, as we can see in the animation below, the flattened patches are vectors of <strong>12</strong> elements, and in total they are <strong>9</strong>, as the slides performed by the kernel.\n",
    "                </p>\n",
    "            </td>\n",
    "            <td>\n",
    "                <figure style=\"text-align:center;\">\n",
    "                    <img src=\"https://raw.githubusercontent.com/valoxe/image-storage-1/master/blog-deep-learning/cnnumpy-fast/1.gif\" height=\"250\" style=\"border-radius:20px; max-width: 100%;\"/>\n",
    "                    <figcaption>Each patch is extracted and flattened into a vector</figcaption>\n",
    "                </figure>\n",
    "            </td>\n",
    "        </tr>\n",
    "        <tr>\n",
    "            <td style=\"width: 65%; padding: 25px;\">\n",
    "                <ol start=\"2\"><li><strong>Kernel Reshaping:</strong></li></ol>\n",
    "                <p>\n",
    "                    To perform the convolution as a vector-matrix multiplication (or matrix-matrix multiplication) we then have to flatten the kernel(s) into row vectors.\n",
    "                </p>\n",
    "            </td>\n",
    "            <td>\n",
    "                <figure style=\"text-align:center; margin-top: 0;\">\n",
    "                    <img src=\"https://raw.githubusercontent.com/valoxe/image-storage-1/master/blog-deep-learning/cnnumpy-fast/10.png\" height=\"250\" style=\"border-radius:20px; max-width: 100%;\"/>\n",
    "                    <figcaption>Kernels are flattened into a vector</figcaption>\n",
    "                </figure>\n",
    "            </td>\n",
    "        </tr>\n",
    "        <tr>\n",
    "            <td style=\"width: 65%; padding: 25px;\">\n",
    "                <ol start=\"3\"><li><strong>Convolution as Matrix Multiplication:</strong></li></ol>\n",
    "                <p>\n",
    "                    At this point, the convolution boils down to a simple matrix multiplication, with enormous gains in efficiency and simplicity.\n",
    "                </p>\n",
    "            </td>\n",
    "            <td>\n",
    "                <figure style=\"text-align:center; margin-top: 0;\">\n",
    "                    <img src=\"https://raw.githubusercontent.com/valoxe/image-storage-1/master/blog-deep-learning/cnnumpy-fast/11.gif\" height=\"250\" style=\"border-radius:20px; max-width: 100%;\"/>\n",
    "                    <figcaption>Each element of the output is given by a simple and optimized dot product</figcaption>\n",
    "                </figure>\n",
    "            </td>\n",
    "        </tr>\n",
    "    </tbody>\n",
    "</table>\n",
    "<figcaption style=\"text-align:center; margin-top:10px;\"><i><a href\"https://hackmd.io/@machine-learning/blog-post-cnnumpy-fast\">(Images source: Convolutional Neural Network with Numpy)</a></i>\n",
    "</fgcaption>\n",
    "</body>\n",
    "</html>"
   ]
  },
  {
   "cell_type": "code",
   "execution_count": 12,
   "id": "56c9deef",
   "metadata": {},
   "outputs": [
    {
     "name": "stdout",
     "output_type": "stream",
     "text": [
      "-------img-------\n",
      "[[[[  1.   2.   3.   4.   5.]\n",
      "   [  6.   7.   8.   9.  10.]\n",
      "   [ 11.  12.  13.  14.  15.]\n",
      "   [ 16.  17.  18.  19.  20.]\n",
      "   [ 21.  22.  23.  24.  25.]]\n",
      "\n",
      "  [[ 26.  27.  28.  29.  30.]\n",
      "   [ 31.  32.  33.  34.  35.]\n",
      "   [ 36.  37.  38.  39.  40.]\n",
      "   [ 41.  42.  43.  44.  45.]\n",
      "   [ 46.  47.  48.  49.  50.]]\n",
      "\n",
      "  [[ 51.  52.  53.  54.  55.]\n",
      "   [ 56.  57.  58.  59.  60.]\n",
      "   [ 61.  62.  63.  64.  65.]\n",
      "   [ 66.  67.  68.  69.  70.]\n",
      "   [ 71.  72.  73.  74.  75.]]\n",
      "\n",
      "  [[ 76.  77.  78.  79.  80.]\n",
      "   [ 81.  82.  83.  84.  85.]\n",
      "   [ 86.  87.  88.  89.  90.]\n",
      "   [ 91.  92.  93.  94.  95.]\n",
      "   [ 96.  97.  98.  99. 100.]]]]\n",
      "-------ker-------\n",
      "[[[[ 1  2]\n",
      "   [ 3  4]]\n",
      "\n",
      "  [[ 5  6]\n",
      "   [ 7  8]]\n",
      "\n",
      "  [[ 9 10]\n",
      "   [11 12]]\n",
      "\n",
      "  [[13 14]\n",
      "   [15 16]]]\n",
      "\n",
      "\n",
      " [[[17 18]\n",
      "   [19 20]]\n",
      "\n",
      "  [[21 22]\n",
      "   [23 24]]\n",
      "\n",
      "  [[25 26]\n",
      "   [27 28]]\n",
      "\n",
      "  [[29 30]\n",
      "   [31 32]]]]\n",
      "-------Conv 'nested_loop'-------\n",
      "[[[[ 7689.]]\n",
      "\n",
      "  [[18314.]]]]\n",
      "-------Conv 'im2col'-------\n",
      "[[[[ 7689.]]\n",
      "\n",
      "  [[18314.]]]]\n"
     ]
    }
   ],
   "source": [
    "def im2col_convolution(batch_of_images, kernels, biases=np.array(0), padding=0, stride=1, applyReLU=True):\n",
    "    kernels_number, kernel_channels, kernel_height, kernel_width = kernels.shape\n",
    "\n",
    "    ###### im2col approach steps: ######\n",
    "    # 1. Pad the input image as needed\n",
    "    if padding > 0:\n",
    "        batch_of_images = np.pad(batch_of_images,((0,0),(0,0),(padding,padding),(padding,padding)))\n",
    "\n",
    "    batch_size, input_channels, image_height, image_width = batch_of_images.shape\n",
    "\n",
    "    # 2. Extract sliding windows from the input image, considering the kernel size and stride\n",
    "    sliding_windows = np.lib.stride_tricks.sliding_window_view(batch_of_images,(1,input_channels,kernel_height,kernel_width))[:,:,::stride,::stride]\n",
    "\n",
    "    # 3. Flatten the sliding windows and the kernel to prepare for matrix multiplication\n",
    "    sliding_windows = sliding_windows.reshape((-1,(kernel_height * kernel_width * input_channels)))\n",
    "\n",
    "    kernels = kernels.reshape((-1,(kernel_height*kernel_width*input_channels))).transpose(1,0)\n",
    "\n",
    "    # Now, the convolution can be performed as a matrix multiplication, where each row of the sliding windows\n",
    "    # corresponds to a flattened patch of the input image, and each column of the kernels corresponds to a flattened kernel (channel-wise)\n",
    "    images_dot_kernels = np.matmul(sliding_windows, kernels).astype(np.float32) # It's called 'images_dot_kernels' because it contains the result of the whole convolution operation\n",
    "\n",
    "    # Compute the output dimensions to reshape the resulting matrix (each row corresponds to a patch)\n",
    "    output_width = int(((image_width - kernel_width) / stride) + 1)\n",
    "    output_height = int(((image_height - kernel_height) / stride) + 1)\n",
    "\n",
    "    # First operate a reshape keeping spatial ordering, which has channels at the end\n",
    "    output = images_dot_kernels.reshape(batch_size, output_width, output_height, kernels_number)\n",
    "\n",
    "    # Transpose to have input in shapes (batch, output_channel, height, width)\n",
    "    output = output.transpose(0,3,1,2).astype(np.float32)\n",
    "\n",
    "    # Add biases if they are provided\n",
    "    if biases.any() != 0:\n",
    "        output = (output + biases.reshape(1,-1,1,1))\n",
    "\n",
    "    # Apply ReLU activation if specified\n",
    "    if applyReLU:\n",
    "        output = np.maximum(0, output)\n",
    "\n",
    "    # Create a mask for the backward operation of ReLU activation\n",
    "    mask = np.copy(output)\n",
    "    mask[mask > 0] = 1\n",
    "\n",
    "    return output, mask\n",
    "\n",
    "img = np.arange(1,4*5*5+1).reshape(1,4,5,5).astype(np.float32)\n",
    "print(\"-------img-------\")\n",
    "print(img)\n",
    "ker = np.arange(1,32+1).reshape(2,4,2,2)\n",
    "print(\"-------ker-------\")\n",
    "print(ker)\n",
    "bias = np.array([1,2]).reshape(2,1,1)\n",
    "\n",
    "s = 4\n",
    "\n",
    "res,mask = nested_loop_convolution(img, ker, bias,padding=0,stride=s)\n",
    "print(\"-------Conv 'nested_loop'-------\")\n",
    "print(res)\n",
    "X_c,mask = im2col_convolution(img, ker, bias,padding=0,stride=s)\n",
    "print(\"-------Conv 'im2col'-------\")\n",
    "print(X_c)"
   ]
  },
  {
   "cell_type": "markdown",
   "id": "4c414872",
   "metadata": {},
   "source": [
    "### Im2Col approach: Convolutional Layer - Backward"
   ]
  },
  {
   "cell_type": "markdown",
   "id": "6a4e1403",
   "metadata": {},
   "source": [
    "`im2col_gradient` computes the following gradients using again the im2col approach:\n",
    "* $\\frac{\\partial L}{\\partial X}$ (`gi`): gradient w.r.t. the input images;\n",
    "\n",
    "* $\\frac{\\partial L}{\\partial W}$ (`gk`): gradient w.r.t. the kernels;\n",
    "\n",
    "* $\\frac{\\partial L}{\\partial b}$ (`gb`): gradient w.r.t. the biases.\n",
    "\n",
    "**Steps:**\n",
    "\n",
    "1.  **Backward ReLU:** $\\frac{\\partial L}{\\partial Z} = \\frac{\\partial L}{\\partial A} \\odot \\text{mask}$<br>\n",
    "    \"$\\text{mask}$\" is a matrix (tensor) whose elements are 1 if the corrisponding elements in the output of a given layer were > 0. It enables the flowing of the gradient only through elements that contributed to form the output in the first place.\n",
    "\n",
    "2.  **Gradient w.r.t. Input (`gi`):**\n",
    "    $\\frac{\\partial L}{\\partial X} = \\text{FullConv}(\\left(\\frac{\\partial L}{\\partial Z}\\right)_{dilated}, W_{rot180})$<br>\n",
    "    A full convolution is needed, since we must obtain a result with the same size as the input image. As you remember, the output size is given by this formula: $O = \\lfloor \\frac{(I - K + 2P)}{S} \\rfloor + 1$, so we must \"invert\" it. In particular, the output tensor must be:\n",
    "    * dilated by $stride - 1$ and\n",
    "    * padded by:\n",
    "    $(kernel\\_height-1-input\\_padding{\\textnormal{, }}kernel\\_width-1-input\\_padding)$\n",
    "\n",
    "2.  **Gradient w.r.t. Kernel (`gk`):**\n",
    "    This is $\\frac{\\partial L}{\\partial W} = \\text{Conv}(X_{padded}, \\frac{\\partial L}{\\partial Z})$.\n",
    "   \n",
    "\n",
    "3.  **Gradient w.r.t. Bias (`gb`):** $\\frac{\\partial L}{\\partial b_f} = \\sum_{n,h,w} (\\frac{\\partial L}{\\partial Z})_{n,f,h,w}$. (`gb = d_img.sum((-1,-2))`).\n",
    "\n",
    "**But what if, in the forward phase, the stride was greater than 1?**<br>\n",
    "Dilation was already mentioned, but here we will give you again an explanation, but with a detailed visual example. Consider the case in which the stride was $S= 2$ in the forward pass. The output gradient tensor needs to be dilated (in order to obtain a tensor with the same size as the input image) before being convolved with the kernel gradient, to be effectively useful to backpropagate the loss. A visualization of why dilation enables this fundamental result is in the gif below:\n",
    "<figure style=\"text-align:center;\">\n",
    "    <img src=\"https://miro.medium.com/v2/resize:fit:1100/format:webp/1*KOHfsOHX5ujcMfr6Xjy6zQ.png\" height=\"250\", style=\"border-radius:20px 0 0 20px;\"/>\n",
    "    <img src=\"https://miro.medium.com/v2/resize:fit:1100/format:webp/1*QvTW-pNwJAlbfj1LrZe8JA.gif\" height=\"250\", style=\"border-radius:0 20px 20px 0;\"/>\n",
    "    <figcaption>The backpropagation operation is identical to a stride = 1 convolution of a padded, dilated version of the output gradient tensor with a flipped version of the filter.<br><i><a href=\"https://medium.com/@mayank.utexas/backpropagation-for-convolution-with-strides-8137e4fc2710\">(Source: Backpropagation for Convolution with Strides, Mayank Kaushik)</a></i></figcaption>\n",
    "</figure>"
   ]
  },
  {
   "cell_type": "code",
   "execution_count": 13,
   "id": "2c5583e5",
   "metadata": {},
   "outputs": [],
   "source": [
    "def im2col_gradient(batch_of_images, d_output_activated, kernels, mask, padding=0, stride=1):\n",
    "    \"\"\"\n",
    "    Performs the backward pass of the convolution layer using im2col.\n",
    "    \"\"\"\n",
    "    C_out_k, C_in_k, KH, KW = kernels.shape\n",
    "    B, C_in_img, H_in_img_orig, W_in_img_orig = batch_of_images.shape\n",
    "\n",
    "    if C_in_img != C_in_k:\n",
    "        raise ValueError(\"Kernel input channels and image input channels must match.\")\n",
    "\n",
    "    # Backward ReLU: dL/dZ = dL/dA * mask\n",
    "    dLdZ = np.multiply(d_output_activated, mask) # Shape: (B, C_out_k, H_out_fwd, W_out_fwd)\n",
    "\n",
    "    # --- Gradient w.r.t. Biases (dL/db) ---\n",
    "    gradient_wrt_biases = np.sum(dLdZ, axis=(0, 2, 3)) # Shape: (C_out_k,)\n",
    "\n",
    "    # --- Gradient w.r.t. Input (dL/dX) ---\n",
    "    dLdZ_dilated_for_dX = dilate(dLdZ, stride)\n",
    "    \n",
    "    pad_h_dx = KH - 1 - padding\n",
    "    pad_w_dx = KW - 1 - padding\n",
    "    dLdZ_dilated_padded_for_dX = np.pad(dLdZ_dilated_for_dX,\n",
    "                                     ((0,0), (0,0), (pad_h_dx, pad_h_dx), (pad_w_dx, pad_w_dx)),\n",
    "                                     mode='constant', constant_values=0)\n",
    "\n",
    "    kernels_rot180 = np.rot90(kernels, 2, axes=(-2, -1)) # Shape: (C_out_k, C_in_k, KH, KW)\n",
    "    \n",
    "    # For dL/dX, \"output channels\" = C_in_k, \"input channels\" = C_out_k\n",
    "    # Kernels for this conv: (C_in_k, C_out_k, KH, KW)\n",
    "    # This means transposing the first two axes of kernels_rot180\n",
    "    W_col_dX_kernels = kernels_rot180.transpose(1,0,2,3).reshape(C_in_k, -1).T # (C_out_k*KH*KW, C_in_k)\n",
    "\n",
    "    # Im2col for dLdZ_dilated_padded_for_dX (input to this conv)\n",
    "    # Patches are (C_out_k, KH, KW)\n",
    "    # Output of sliding_window_view: (B, 1, H_target, W_target, 1, C_out_k, KH, KW)\n",
    "    # where H_target, W_target are original input image dimensions\n",
    "    H_out_dx = (dLdZ_dilated_padded_for_dX.shape[2] - KH) // 1 + 1 # Stride is 1 for this conv\n",
    "    W_out_dx = (dLdZ_dilated_padded_for_dX.shape[3] - KW) // 1 + 1\n",
    "\n",
    "    # Ensure H_out_dx == H_in_img_orig and W_out_dx == W_in_img_orig\n",
    "    if H_out_dx != H_in_img_orig or W_out_dx != W_in_img_orig:\n",
    "         # This can happen if padding_fwd was 'same' or auto, and K-1-P_fwd leads to slight mismatch\n",
    "         # We'll allow it for now and reshape/crop later if needed, but it's a sign of potential padding issues\n",
    "         pass\n",
    "\n",
    "\n",
    "    view_dX = np.lib.stride_tricks.sliding_window_view(dLdZ_dilated_padded_for_dX, (1, C_out_k, KH, KW))\n",
    "    # view_dX shape: (B, 1_dummy, H_out_dx, W_out_dx, 1_dummy, C_out_k, KH, KW)\n",
    "    X_col_dX = view_dX.reshape(B * H_out_dx * W_out_dx, C_out_k * KH * KW)\n",
    "\n",
    "    gradient_wrt_input_col = np.matmul(X_col_dX, W_col_dX_kernels) # (B*H_out_dx*W_out_dx, C_in_k)\n",
    "    \n",
    "    # Reshape to (B, H_out_dx, W_out_dx, C_in_k) then transpose\n",
    "    gradient_wrt_input_reshaped = gradient_wrt_input_col.reshape(B, H_out_dx, W_out_dx, C_in_k)\n",
    "    gradient_wrt_input = gradient_wrt_input_reshaped.transpose(0,3,1,2) # (B, C_in_k, H_out_dx, W_out_dx)\n",
    "\n",
    "    # Crop if necessary to match original input shape (due to padding effects in \"full\" conv)\n",
    "    if gradient_wrt_input.shape[2] > H_in_img_orig:\n",
    "        gradient_wrt_input = gradient_wrt_input[:,:,:H_in_img_orig,:]\n",
    "    if gradient_wrt_input.shape[3] > W_in_img_orig:\n",
    "        gradient_wrt_input = gradient_wrt_input[:,:,:,:W_in_img_orig]\n",
    "    if gradient_wrt_input.shape != batch_of_images.shape: # Final check if cropping wasn't enough\n",
    "        # This might indicate a more fundamental issue with padding calculations for dL/dX\n",
    "        # For now, we'll force reshape if total elements match, or raise error\n",
    "        if gradient_wrt_input.size == batch_of_images.size:\n",
    "             gradient_wrt_input = gradient_wrt_input.reshape(batch_of_images.shape)\n",
    "        else:\n",
    "            raise ValueError(f\"Shape mismatch for dL/dX: expected {batch_of_images.shape}, got {gradient_wrt_input.shape}\")\n",
    "\n",
    "\n",
    "    # --- Gradient w.r.t. Kernel (dL/dW) ---\n",
    "    # dL/dW = X_col.T @ dLdZ_col\n",
    "    # X_col from original input batch_of_images (padded as in forward pass)\n",
    "    if padding > 0:\n",
    "        X_orig_padded_for_dW = np.pad(batch_of_images, ((0,0),(0,0),(padding,padding),(padding,padding)), mode='constant', constant_values=0)\n",
    "    else:\n",
    "        X_orig_padded_for_dW = batch_of_images\n",
    "        \n",
    "    # Im2col for X_orig_padded_for_dW\n",
    "    # Patches are (C_in_k, KH, KW), strided by `stride` (forward stride)\n",
    "    # Output of sliding_window_view (B, 1, H_out_fwd, W_out_fwd, 1, C_in_k, KH, KW)\n",
    "    H_out_fwd, W_out_fwd = dLdZ.shape[2], dLdZ.shape[3] # Spatial dims of dLdZ\n",
    "\n",
    "    view_X_dW = np.lib.stride_tricks.sliding_window_view(X_orig_padded_for_dW, (1, C_in_k, KH, KW))\n",
    "    # view_X_dW shape: (B, 1_dummy, H_unstrided, W_unstrided, 1_dummy, C_in_k, KH, KW)\n",
    "    X_col_windows_dW = view_X_dW[:, 0, ::stride, ::stride, 0, :, :, :] # Apply stride\n",
    "    # X_col_windows_dW shape: (B, H_out_fwd, W_out_fwd, C_in_k, KH, KW)\n",
    "    X_col_dW = X_col_windows_dW.reshape(B * H_out_fwd * W_out_fwd, C_in_k * KH * KW)\n",
    "\n",
    "    # dLdZ_col from dLdZ (not dilated for dW)\n",
    "    # Reshape dLdZ (B, C_out_k, H_out_fwd, W_out_fwd) to (B*H_out_fwd*W_out_fwd, C_out_k)\n",
    "    dLdZ_col_dW = dLdZ.transpose(0, 2, 3, 1).reshape(-1, C_out_k)\n",
    "    \n",
    "    gradient_wrt_kernels_flat = np.matmul(X_col_dW.T, dLdZ_col_dW) # (C_in_k*KH*KW, C_out_k)\n",
    "    \n",
    "    # Reshape to original kernel shape (C_out_k, C_in_k, KH, KW)\n",
    "    gradient_wrt_kernels = gradient_wrt_kernels_flat.reshape(C_in_k, KH, KW, C_out_k).transpose(3,0,1,2)\n",
    "\n",
    "    if gradient_wrt_kernels.dtype != np.float32:\n",
    "        gradient_wrt_kernels = gradient_wrt_kernels.astype(np.float32)\n",
    "\n",
    "    return gradient_wrt_input.astype(np.float32), gradient_wrt_kernels, gradient_wrt_biases.astype(np.float32)"
   ]
  },
  {
   "cell_type": "markdown",
   "id": "32d96bd4",
   "metadata": {},
   "source": [
    "### Optimized versions"
   ]
  },
  {
   "cell_type": "markdown",
   "id": "6e444f55",
   "metadata": {},
   "source": [
    "* #### Im2col optimized\n",
    "\n",
    "Optimization changes:\n",
    "1. Memory Layout and Copying (Implicit and Explicit):\n",
    "\n",
    "    * `im2col_convolution` (Forward):\n",
    "\n",
    "        * `sliding_windows = np.lib.stride_tricks.sliding_window_view(...)` creates a view, which is efficient. However, `sliding_windows.reshape((-1,(KH*KW*C_in)))` often creates a copy if the reshape isn`t compatible with the existing strides.\n",
    "\n",
    "        * `kernels.reshape((-1,(KH*KW*C_in))).transpose(1,0)`: The `transpose()` operation almost always creates a copy of the array with a new memory layout (from C-cont*iguous to F-contiguous or vice-versa, or a mix).\n",
    "\n",
    "        * `output = images_*dot_kernels.reshape(...).transpose(...)`: Again, `transpose()` likely creates a copy.\n",
    "\n",
    "    The optimized forward version (im2col_optimized) tries to manage these reshapes and transpositions more carefully. For instance, `W_col = kernels.reshape(kernels_number, -1).T` is a common and efficient way to get the kernel matrix for `X_col @ W_col`. It might also be making better use of views where possible, or ensuring C-contiguity before matmul.\n",
    "\n",
    "    * `im2col_gradient` (Backward):\n",
    "\n",
    "        * dL/dX: Similar to the forward pass, creating X_col_dX from dLdZ_dilated_padded_for_dX and W_col_dX_kernels from kernels_rot180 involves reshapes and transposes that can lead to copies.\n",
    "\n",
    "        * dL/dW: Creating X_col_dW from the padded input and dLdZ_col_dW from dLdZ also involves reshapes (e.g., dLdZ.transpose(0, 2, 3, 1).reshape(-1, C_out_k)) and transpositions (X_col_dW.T) that can create copies and be less cache-friendly for the matmul.\n",
    "\n",
    "        * `im2col_optimized_gradient`: This version is designed to minimize copies.\n",
    "\n",
    "2. NumPy`s Internal Optimizations and BLAS:\n",
    "\n",
    "    * `np.matmul` calls highly optimized BLAS (Basic Linear Algebra Subprograms) libraries (like MKL, OpenBLAS) for the actual matrix multiplication. These libraries are extremely fast.\n",
    "\n",
    "    * The efficiency of BLAS heavily depends on the memory layout of the input matrices. Matrices that are C-contiguous (for the first operand) and F-contiguous (for the second, or C-contiguous if transposed in the call) are generally fastest.\n",
    "\n",
    "    * The optimized versions are often structured to prepare data in these favorable layouts. The unoptimized im2col might be feeding `np.matmul` with arrays that have \"messier\" strides due to multiple prior operations, forcing `np.matmul` to internally create temporary, better-laid-out copies, which adds overhead.\n",
    "\n",
    "3. Looping vs. Vectorization (Subtleties):\n",
    "\n",
    "    While both im2col versions avoid Python loops for the core computation (unlike nested_loop_convolution), the way data is prepared for the final `np.matmul` can still involve less efficient NumPy operations in the unoptimized version compared to the more carefully constructed sequence in the optimized one. For example, multiple small reshape and transpose calls on potentially non-contiguous data can be slower than fewer, larger operations on contiguous blocks."
   ]
  },
  {
   "cell_type": "code",
   "execution_count": 14,
   "id": "daa1dccd",
   "metadata": {},
   "outputs": [],
   "source": [
    "def im2col_optimized(batch_of_images, kernels, biases=None, padding=0, stride=1, applyReLU=True):\n",
    "    kernels_number, kernel_channels, kernel_height, kernel_width = kernels.shape\n",
    "\n",
    "    # 1. Pad the input image\n",
    "    if padding > 0:\n",
    "        # Original used 'batch_of_images' name, implying potential re-binding.\n",
    "        # Using a distinct name for padded version internally for clarity.\n",
    "        batch_of_images_padded = np.pad(batch_of_images, ((0,0),(0,0),(padding,padding),(padding,padding)), mode='constant', constant_values=0)\n",
    "    else:\n",
    "        batch_of_images_padded = batch_of_images\n",
    "\n",
    "    batch_size, input_channels, image_height_padded, image_width_padded = batch_of_images_padded.shape\n",
    "\n",
    "    # 2. Extract sliding windows (im2col)\n",
    "    # Original: view_shape = (1, input_channels, kernel_height, kernel_width)\n",
    "    # Output of view: (B, 1_dummy_ch, H_unstrided, W_unstrided, 1_dummy_item, C_in, KH, KW)\n",
    "    sliding_windows_view = np.lib.stride_tricks.sliding_window_view(\n",
    "        batch_of_images_padded,\n",
    "        (1, input_channels, kernel_height, kernel_width) # Item shape for window\n",
    "    )\n",
    "    # Apply stride: (B, 1, H_out, W_out, 1, C_in, KH, KW)\n",
    "    sliding_windows_strided = sliding_windows_view[:, :, ::stride, ::stride, :, :, :, :]\n",
    "    \n",
    "    # 3. Flatten sliding windows (X_col)\n",
    "    # Reshapes (B*1*H_out*W_out*1, KH*KW*C_in) -> (B*H_out*W_out, KH*KW*C_in)\n",
    "    X_col = sliding_windows_strided.reshape((-1, (kernel_height * kernel_width * input_channels)))\n",
    "\n",
    "    # Flatten kernels (W_col)\n",
    "    # Original: kernels.reshape((-1,(KH*KW*C_in))).transpose(1,0) -> (KH*KW*C_in, K_num)\n",
    "    W_col = kernels.reshape(kernels_number, -1).T\n",
    "\n",
    "    # 4. Matrix multiplication\n",
    "    images_dot_kernels = np.matmul(X_col, W_col)\n",
    "    # Original explicitly casted here: .astype(np.float32). If X_col, W_col are already f32, result usually is.\n",
    "    if images_dot_kernels.dtype != np.float32:\n",
    "        images_dot_kernels = images_dot_kernels.astype(np.float32)\n",
    "\n",
    "    # 5. Compute output dimensions (using padded dimensions, as in original)\n",
    "    # Note: Integer division `//` is safer here than relying on `int()`.\n",
    "    output_height = ((image_height_padded - kernel_height) // stride) + 1\n",
    "    output_width = ((image_width_padded - kernel_width) // stride) + 1\n",
    "    \n",
    "    # 6. Reshape output\n",
    "    # Original: images_dot_kernels.reshape(batch_size, output_width, output_height, kernels_number)\n",
    "    # This means (Batch, Width, Height, Channels_out)\n",
    "    output_reshaped = images_dot_kernels.reshape(batch_size, output_height, output_width, kernels_number)\n",
    "    \n",
    "    # 7. Transpose to (Batch, Channels_out, Height, Width)\n",
    "    # Original transpose (0,3,1,2) on (B, W, H, C) makes (B, C, W, H).\n",
    "    # To get (B, C, H, W) from (B, H_orig_idx, W_orig_idx, C), use (0,3,1,2)\n",
    "    output = output_reshaped.transpose(0, 3, 1, 2) # (B, C_out, H_out, W_out)\n",
    "    if output.dtype != np.float32: # Original also casted here.\n",
    "        output = output.astype(np.float32)\n",
    "\n",
    "    # 8. Add biases (replicating original's specific logic)\n",
    "    if biases.any() != 0: # This was the original condition.\n",
    "        bias_to_add = biases\n",
    "        if hasattr(biases, 'dtype') and biases.dtype != np.float32:\n",
    "            bias_to_add = biases.astype(np.float32) # Ensure bias is also f32\n",
    "        output = output + bias_to_add.reshape(1, -1, 1, 1)\n",
    "\n",
    "    # 9. Apply ReLU activation\n",
    "    # The mask should be based on the state *after* potential ReLU.\n",
    "    # The original mask creation was: `mask = np.copy(output); mask[mask > 0] = 1` (output here is post-relu)\n",
    "    # This was not a binary mask if output had negative values after (impossible post-relu) or if relu not applied.\n",
    "    # A standard binary mask is better and what user's provided \"optimized\" functions also used.\n",
    "    \n",
    "    if applyReLU:\n",
    "        output_activated = np.maximum(0, output)\n",
    "        mask = (output_activated > 0).astype(output.dtype) # Binary mask {0, 1}\n",
    "        output = output_activated\n",
    "    else:\n",
    "        mask = np.ones_like(output, dtype=output.dtype) # All pass if no ReLU\n",
    "        # output remains unchanged from bias addition\n",
    "        \n",
    "    return output, mask\n",
    "\n",
    "def im2col_gradient_optimized(\n",
    "    batch_of_images, # Original input to forward pass, unpadded\n",
    "    d_image, # Gradient from next layer (dL/dY_activated)\n",
    "    kernels,            # Kernels used in forward pass (C_out, C_in, KH, KW)\n",
    "    mask,               # ReLU mask from forward pass\n",
    "    padding,        # Padding used in forward pass\n",
    "    stride          # Stride used in forward pass\n",
    "    ):\n",
    "    \n",
    "    C_out_k, C_in_k, KH, KW = kernels.shape\n",
    "    B, C_in_img, H_in_img_orig, W_in_img_orig = batch_of_images.shape\n",
    "\n",
    "    # Backward ReLU: dL/dZ = dL/dOutput_activated * mask\n",
    "    dLdZ = np.multiply(d_image, mask)\n",
    "\n",
    "    ############ Gradient of Input Image (dX) - Faithfully following original structure ############\n",
    "    # 1. Dilate dLdZ (as in original for dX)\n",
    "    dLdZ_dilated_for_dX = dilate(dLdZ, stride)\n",
    "    \n",
    "    # 2. Pad dLdZ_dilated_for_dX (as in original for dX)\n",
    "    # Original padding: KH-1-padding (fwd), KW-1-padding (fwd)\n",
    "    # This padding aims to make the subsequent convolution \"full\" in a way that\n",
    "    # its output size matches the original input image size before forward padding.\n",
    "    pad_h_dx = max(0, KH - 1 - padding)\n",
    "    pad_w_dx = max(0, KW - 1 - padding)\n",
    "    dLdZ_padded_for_dX = np.pad(dLdZ_dilated_for_dX,\n",
    "                                ((0,0),(0,0),(pad_h_dx, pad_h_dx),(pad_w_dx, pad_w_dx)),\n",
    "                                mode='constant', constant_values=0)\n",
    "\n",
    "    # 3. Rotate kernels by 180 degrees\n",
    "    kernels_rot180 = np.rot90(kernels, 2, axes=(-2,-1)) # Shape (C_out_k, C_in_k, KH, KW)\n",
    "\n",
    "    # 4. Create X_col_dX from dLdZ_padded_for_dX\n",
    "    # Window shape for view is (1, C_out_k, KH, KW) as dLdZ has C_out_k channels. Stride is 1.\n",
    "    view_dX = np.lib.stride_tricks.sliding_window_view(dLdZ_padded_for_dX, (1, C_out_k, KH, KW))\n",
    "    X_col_dX = view_dX.reshape((-1, (C_out_k * KH * KW))) # (Num_Patches_dX, C_out_k*KH*KW)\n",
    "    \n",
    "    # 5. Create W_col_dX from rotated kernels\n",
    "    # Original: kernels_rot180.reshape((-1,(KW*KH*C_out_k))).transpose(1,0)\n",
    "    # This reshapes to (C_in_k, KW*KH*C_out_k) then transposes to (KW*KH*C_out_k, C_in_k)\n",
    "    W_col_dX = kernels_rot180.reshape(C_in_k, -1).T # Equivalent\n",
    "\n",
    "    # 6. Calculate gradient columns for dX\n",
    "    gradient_wrt_images_col = np.matmul(X_col_dX, W_col_dX) # (Num_Patches_dX, C_in_k)\n",
    "    if gradient_wrt_images_col.dtype != np.float32:\n",
    "        gradient_wrt_images_col = gradient_wrt_images_col.astype(np.float32)\n",
    "    \n",
    "    # 7. Reshape to original image dimensions\n",
    "    # Original: .transpose(1,0).reshape(batch_of_images.shape)\n",
    "    # This implies Num_Patches_dX * C_in_k == B * C_in_img * H_in_img_orig * W_in_img_orig total elements\n",
    "    # AND C_in_k == C_in_img.\n",
    "    # And Num_Patches_dX should correspond to B * H_in_img_orig * W_in_img_orig.\n",
    "    # A standard reshape would be:\n",
    "    # target_H_dx_out = H_in_img_orig # Output of this 'full' conv should be original input height\n",
    "    # target_W_dx_out = W_in_img_orig # Output of this 'full' conv should be original input width\n",
    "    try:\n",
    "        # Attempt standard reshape first assuming the convolution output matches original input spatial dims\n",
    "        gradient_wrt_images_reshaped = gradient_wrt_images_col.reshape(B, H_in_img_orig, W_in_img_orig, C_in_k)\n",
    "        gradient_wrt_images = gradient_wrt_images_reshaped.transpose(0,3,1,2) # (B, C_in_k, H_orig, W_orig)\n",
    "        # Ensure final shape matches original input image's shape exactly, cropping if necessary due to minor size mismatches.\n",
    "        if gradient_wrt_images.shape != batch_of_images.shape:\n",
    "            gradient_wrt_images = gradient_wrt_images[:, :, :H_in_img_orig, :W_in_img_orig]\n",
    "\n",
    "    except ValueError as e:\n",
    "        print(f\"Warning: Standard dX reshape failed ({e}). Attempting original's transpose-reshape logic for dX. This may indicate an issue in expected output dimensions of the dX convolution.\")\n",
    "        grad_temp_transposed = gradient_wrt_images_col.transpose(1,0)\n",
    "        gradient_wrt_images = grad_temp_transposed.reshape(batch_of_images.shape)\n",
    "\n",
    "\n",
    "    ############ Gradient of Kernel (dW) - Using Standard Corrected Method ############\n",
    "    # The original dW logic was highly non-standard and likely incorrect.\n",
    "    # Using the standard X_col.T @ dLdZ_col method, which is generally correct\n",
    "    # and was also present in the \"optimized\" versions you were given.\n",
    "    \n",
    "    # 1. Pad original input batch_of_images as it was for the forward pass\n",
    "    if padding > 0:\n",
    "        X_orig_padded_for_dW = np.pad(batch_of_images, ((0,0),(0,0),(padding,padding),(padding,padding)), mode='constant', constant_values=0)\n",
    "    else:\n",
    "        X_orig_padded_for_dW = batch_of_images\n",
    "        \n",
    "    # 2. Create X_col_dW from X_orig_padded_for_dW\n",
    "    # Patches are of size (C_in_img, KH, KW), strided by `stride` (forward stride)\n",
    "    # H_out_fwd, W_out_fwd are spatial dimensions of dLdZ\n",
    "    H_out_fwd, W_out_fwd = dLdZ.shape[2], dLdZ.shape[3]\n",
    "\n",
    "    _view_X_dW = np.lib.stride_tricks.sliding_window_view(X_orig_padded_for_dW, (1, C_in_img, KH, KW))\n",
    "    # Apply forward stride\n",
    "    X_col_windows_dW = _view_X_dW[:, 0, ::stride, ::stride, 0, :, :, :]\n",
    "    # Reshape to (B*H_out_fwd*W_out_fwd, C_in_img*KH*KW)\n",
    "    X_col_dW = X_col_windows_dW.reshape(B * H_out_fwd * W_out_fwd, C_in_img * KH * KW)\n",
    "\n",
    "    # 3. Create dLdZ_col from dLdZ (not dilated for dW)\n",
    "    # Reshape to (B*H_out_fwd*W_out_fwd, C_out_k)\n",
    "    dLdZ_col_dW = dLdZ.transpose(0, 2, 3, 1).reshape(-1, C_out_k)\n",
    "    \n",
    "    # 4. Calculate dW_flat = X_col_dW.T @ dLdZ_col_dW\n",
    "    gradient_wrt_kernels_flat = np.matmul(X_col_dW.T, dLdZ_col_dW) # (C_in_img*KH*KW, C_out_k)\n",
    "    \n",
    "    # 5. Reshape dW_flat to original kernel shape (C_out_k, C_in_img, KH, KW)\n",
    "    # Current shape is (C_in_img*KH*KW, C_out_k). Reshape to (C_in_img, KH, KW, C_out_k) then transpose.\n",
    "    gradient_wrt_kernels = gradient_wrt_kernels_flat.reshape(C_in_img, KH, KW, C_out_k).transpose(3,0,1,2)\n",
    "    if gradient_wrt_kernels.dtype != np.float32:\n",
    "        gradient_wrt_kernels = gradient_wrt_kernels.astype(np.float32)\n",
    "\n",
    "    ############### Gradient of Bias (db) - Corrected ###############\n",
    "    # Original summed d_image *after* it was potentially dilated for dX.\n",
    "    # Correct approach is to sum dLdZ *before* any dilation.\n",
    "    gradient_wrt_biases = dLdZ.sum(axis=(0,2,3)) # Sum over B, H, W of dLdZ\n",
    "    if gradient_wrt_biases.dtype != np.float32:\n",
    "        gradient_wrt_biases = gradient_wrt_biases.astype(np.float32)\n",
    "    \n",
    "    return gradient_wrt_images, gradient_wrt_kernels, gradient_wrt_biases"
   ]
  },
  {
   "cell_type": "markdown",
   "id": "3ef184b5",
   "metadata": {},
   "source": [
    "Reading the extremely interesting article [Faster Matrix Multiplications in Numpy](https://www.benjaminjohnston.com.au/matmul) by Benjamin Johnson, we extracted fundamental tips and techniques that allowed us to significantly improve the performances of our im2col approach. Following the order of the steps in the article, we now will briefly present them and apply them to our code.\n",
    "\n",
    "1. **Use BLAS directly, instead of relying on BLAS-based operations of NumPy:** *\"BLAS is a high-performance matrix library. Even though NumPy uses BLAS, I've noticed performance can be improved by calling BLAS directly. Perhaps this is simply because using direct calls to BLAS forces you to shape your data ready for use with BLAS.<br>Replace numpy.matmul with `scipy.linalg.blas.sgemm(...)` for float32 matrix-matrix multiplication and `scipy.linalg.blas.sgemv(...)` for float32 matrix-vector multiplication.\"*\n",
    "2. **Use the fastest BLAS possible**"
   ]
  },
  {
   "cell_type": "markdown",
   "id": "554c4a34",
   "metadata": {},
   "source": [
    "* Direct call to underlying BLAS functions, without NumPy intermediation (works best if the tensors are really large):"
   ]
  },
  {
   "cell_type": "code",
   "execution_count": 15,
   "id": "3edc08a0",
   "metadata": {},
   "outputs": [],
   "source": [
    "from scipy.linalg.blas import sgemm\n",
    "\n",
    "def im2col_optimized_blas(batch_of_images, kernels, biases=None, padding=0, stride=1, applyReLU=True):\n",
    "    kernels_number, kernel_channels, kernel_height, kernel_width = kernels.shape\n",
    "    batch_size, input_channels, image_height, image_width = batch_of_images.shape\n",
    "    if kernel_channels != input_channels:\n",
    "        raise ValueError(f\"Numero di canali del kernel ({kernel_channels}) non corrisponde ai canali dell'input ({input_channels})\")\n",
    "    output_height = (image_height - kernel_height + 2 * padding) // stride + 1\n",
    "    output_width = (image_width - kernel_width + 2 * padding) // stride + 1\n",
    "    \n",
    "    current_dtype = batch_of_images.dtype # Per mantenere la precisione originale finché possibile\n",
    "    if current_dtype != np.float32: # sgemm richiede float32\n",
    "        current_dtype = np.float32\n",
    "\n",
    "    if padding > 0:\n",
    "        batch_of_images_padded = np.pad(batch_of_images.astype(current_dtype, copy=False),\n",
    "                                        ((0, 0), (0, 0), (padding, padding), (padding, padding)),\n",
    "                                        mode='constant')\n",
    "    else:\n",
    "        batch_of_images_padded = batch_of_images.astype(current_dtype, copy=False)\n",
    "\n",
    "    patches = np.lib.stride_tricks.sliding_window_view(\n",
    "        batch_of_images_padded,\n",
    "        (1, input_channels, kernel_height, kernel_width)\n",
    "    )\n",
    "    patches_strided = patches[:, :, ::stride, ::stride, :, :, :, :]\n",
    "\n",
    "    X_col_shape = (batch_size * output_height * output_width, input_channels * kernel_height * kernel_width)\n",
    "    X_col_transposed_view = patches_strided.transpose(0, 2, 3, 5, 6, 7, 1, 4)\n",
    "    # Assicura C-contiguità per la matrice 'a' di sgemm\n",
    "    X_col = np.ascontiguousarray(X_col_transposed_view.reshape(X_col_shape), dtype=np.float32)\n",
    "\n",
    "    # Prepara i kernel per sgemm con trans_b=True\n",
    "    # kernels_reshaped avrà forma (OC, patch_size) ed è C-contigua\n",
    "    kernels_reshaped_for_sgemm = np.ascontiguousarray(kernels.reshape(kernels_number, -1), dtype=np.float32)\n",
    "\n",
    "    # sgemm calcola alpha * A @ B oppure A.T @ B ecc.\n",
    "    # Vogliamo X_col @ W_col, dove W_col = kernels.reshape(OC, -1).T\n",
    "    # Quindi, W_col ha forma (patch_size, OC).\n",
    "    # Passando kernels_reshaped_for_sgemm (OC, patch_size) e trans_b=True,\n",
    "    # sgemm calcolerà X_col @ kernels_reshaped_for_sgemm.T\n",
    "    output_col = sgemm(alpha=1.0, a=X_col, b=kernels_reshaped_for_sgemm, trans_b=True)\n",
    "\n",
    "    output = output_col.reshape(batch_size, output_height, output_width, kernels_number).transpose(0, 3, 1, 2)\n",
    "\n",
    "    if biases is not None and biases.any() != 0:\n",
    "        output = output + biases.astype(np.float32, copy=False).reshape(1, -1, 1, 1)\n",
    "\n",
    "    mask_type = output.dtype\n",
    "    if applyReLU:\n",
    "        # np.maximum può cambiare il dtype se uno degli argomenti è 0 (int). Forziamo float32.\n",
    "        output = np.maximum(0, output, dtype=np.float32)\n",
    "        mask = (output > 0).astype(mask_type) # Maschera binaria con il dtype originale (prima di forzare float32)\n",
    "    else:\n",
    "        mask = np.ones_like(output, dtype=mask_type)\n",
    "\n",
    "    return output.astype(np.float32, copy=False), mask.astype(np.float32, copy=False)\n",
    "\n",
    "def im2col_gradient_optimized_blas(original_forward_input, d_image, kernels, mask, padding, stride):\n",
    "    # Assicura che mask sia float32 se usata in moltiplicazioni\n",
    "    gradient_pre_activation = np.multiply(d_image, mask.astype(d_image.dtype, copy=False)) # dL/dZ\n",
    "\n",
    "    kernels_number, input_channels_kernel, kernel_height, kernel_width = kernels.shape\n",
    "    batch_size, input_channels_orig, input_height, input_width = original_forward_input.shape\n",
    "\n",
    "    gradient_wrt_biases = np.sum(gradient_pre_activation, axis=(0, 2, 3)).astype(np.float32, copy=False)\n",
    "\n",
    "    current_dtype = original_forward_input.dtype\n",
    "    if current_dtype != np.float32:\n",
    "        current_dtype = np.float32\n",
    "\n",
    "    if padding > 0:\n",
    "        X_padded_for_dW = np.pad(original_forward_input.astype(current_dtype, copy=False),\n",
    "                                 ((0,0), (0,0), (padding,padding), (padding,padding)),\n",
    "                                 mode='constant')\n",
    "    else:\n",
    "        X_padded_for_dW = original_forward_input.astype(current_dtype, copy=False)\n",
    "\n",
    "    patches_X_for_dW = np.lib.stride_tricks.sliding_window_view(\n",
    "        X_padded_for_dW,\n",
    "        (1, input_channels_orig, kernel_height, kernel_width)\n",
    "    )[:, :, ::stride, ::stride, :, :, :, :]\n",
    "\n",
    "    X_col_for_dW_shape = (\n",
    "        batch_size * gradient_pre_activation.shape[2] * gradient_pre_activation.shape[3],\n",
    "        input_channels_orig * kernel_height * kernel_width\n",
    "    )\n",
    "    X_col_for_dW_transposed_view = patches_X_for_dW.transpose(0, 2, 3, 5, 6, 7, 1, 4)\n",
    "    # Assicura C-contiguità per 'a' in sgemm(trans_a=True)\n",
    "    X_col_for_dW = np.ascontiguousarray(X_col_for_dW_transposed_view.reshape(X_col_for_dW_shape), dtype=np.float32)\n",
    "\n",
    "    dLdZ_col_shape = (\n",
    "        batch_size * gradient_pre_activation.shape[2] * gradient_pre_activation.shape[3],\n",
    "        kernels_number\n",
    "    )\n",
    "    dLdZ_col_transposed_view = gradient_pre_activation.transpose(0, 2, 3, 1)\n",
    "    # Assicura C-contiguità per 'b' in sgemm(trans_a=True)\n",
    "    # (anche se F-contiguità sarebbe ideale per 'b' se 'a' non è trasposta,\n",
    "    # BLAS gestisce C-contigue per entrambe con trans_a=True)\n",
    "    dLdZ_col = np.ascontiguousarray(dLdZ_col_transposed_view.reshape(dLdZ_col_shape), dtype=np.float32)\n",
    "\n",
    "    # Calcola X_col_for_dW.T @ dLdZ_col\n",
    "    gradient_wrt_kernels_flat = sgemm(alpha=1.0, a=X_col_for_dW, b=dLdZ_col, trans_a=True)\n",
    "\n",
    "    gradient_wrt_kernels = gradient_wrt_kernels_flat.reshape(\n",
    "        input_channels_orig, kernel_height, kernel_width, kernels_number\n",
    "    ).transpose(3, 0, 1, 2).astype(np.float32, copy=False)\n",
    "\n",
    "    # --- Calcolo di gradient_wrt_input (dL/dX) ---\n",
    "    dilated_grad_pre_activation = dilate(gradient_pre_activation.astype(np.float32, copy=False), stride)\n",
    "\n",
    "    # Ottimizzazione per rotazione kernel: W_rot180 = W[:, :, ::-1, ::-1] (flip per KH, KW)\n",
    "    # Poi transpose per scambiare canali input/output per la convoluzione trasposta: (IC, OC, KH, KW)\n",
    "    flipped_kernels_for_dX = kernels.astype(np.float32, copy=False)[:,:,::-1,::-1].transpose(1,0,2,3)\n",
    "    # Assicura che i kernel flippati siano C-contigui per la chiamata ricorsiva a im2col_optimized_v3\n",
    "    flipped_kernels_for_dX = np.ascontiguousarray(flipped_kernels_for_dX)\n",
    "\n",
    "\n",
    "    padding_for_dX_conv = kernel_height - 1 - padding\n",
    "\n",
    "    gradient_wrt_input_raw, _ = im2col_optimized_blas(\n",
    "        dilated_grad_pre_activation,\n",
    "        flipped_kernels_for_dX,\n",
    "        biases=None,\n",
    "        padding=padding_for_dX_conv,\n",
    "        stride=1,\n",
    "        applyReLU=False\n",
    "    )\n",
    "\n",
    "    # Crop per ottenere le dimensioni corrette\n",
    "    gradient_wrt_input = gradient_wrt_input_raw[:, :, :input_height, :input_width].astype(np.float32, copy=False)\n",
    "\n",
    "    return gradient_wrt_input, gradient_wrt_kernels, gradient_wrt_biases"
   ]
  },
  {
   "cell_type": "markdown",
   "id": "7acf7862",
   "metadata": {},
   "source": [
    "## MLP Layer"
   ]
  },
  {
   "cell_type": "markdown",
   "id": "9249b2ef",
   "metadata": {},
   "source": [
    "### MLP Layer: Forward"
   ]
  },
  {
   "cell_type": "markdown",
   "id": "9cf3f21f",
   "metadata": {},
   "source": [
    "`ReLU_SoftMax_FullyConnected` executes the forward pass of a two-layer Multi-Layer Perceptron (one hidden layer, one output layer), typically used for classification after feature extraction by convolutional layers."
   ]
  },
  {
   "cell_type": "code",
   "execution_count": 17,
   "id": "68206d05",
   "metadata": {},
   "outputs": [],
   "source": [
    "def softmax(x):\n",
    "    e_x = np.exp(x-np.max(x,axis=-1,keepdims=True))  # for numerical stability\n",
    "    return e_x / np.sum(e_x,axis=-1,keepdims=True)\n",
    "\n",
    "def ReLU_SoftMax_FullyConnected(input_array,w1,b1,w2,b2):\n",
    "    fl = (input_array @ w1)+b1 # first layer\n",
    "    fa = np.maximum(0,fl) # first activation: ReLU\n",
    "    sl = (fa @ w2)+b2 # second layer\n",
    "    sa = softmax(sl) # second activation: SoftMax\n",
    "    return fl,fa,sl,sa"
   ]
  },
  {
   "cell_type": "markdown",
   "id": "cc3eaeb8",
   "metadata": {},
   "source": [
    "### MLP Layer: Backward"
   ]
  },
  {
   "cell_type": "markdown",
   "id": "c9b7b0a1",
   "metadata": {},
   "source": [
    "`ReLU_SoftMax_FC_Backward` computes gradients for the MLP. Inputs: batch size `bs`, predictions `pred` ($P$), true `labels` ($Y$), weights $W_1, W_2$, hidden activation `fa` ($A_1$), hidden pre-activation `fl` ($Z_1$), MLP input `i_mlp` ($X_{mlp}$).\n",
    "\n",
    "**Gradients (from output layer backwards):**\n",
    "\n",
    "1.  $\\frac{\\partial L}{\\partial Z_2} = P - Y$ (`dL_dz2`)\n",
    "2.  $\\frac{\\partial L}{\\partial W_2} = A_1^T \\frac{\\partial L}{\\partial Z_2}$ (`dL_dw2`)\n",
    "3.  $\\frac{\\partial L}{\\partial b_2} = \\sum_{bs} \\frac{\\partial L}{\\partial Z_2}$ (`dL_db2`)\n",
    "4.  $\\frac{\\partial L}{\\partial A_1} = \\frac{\\partial L}{\\partial Z_2} W_2^T$ (`dL_dfa`)\n",
    "5.  $\\frac{\\partial L}{\\partial Z_1} = \\frac{\\partial L}{\\partial A_1} \\odot \\text{ReLU}'(Z_1)$ (`dL_dfl`, where $\\text{ReLU}'(Z_1)$ is 1 if $Z_1 > 0$, else 0)\n",
    "6.  $\\frac{\\partial L}{\\partial W_1} = X_{mlp}^T \\frac{\\partial L}{\\partial Z_1}$ (`dL_dw1`)\n",
    "7.  $\\frac{\\partial L}{\\partial b_1} = \\sum_{bs} \\frac{\\partial L}{\\partial Z_1}$ (`dL_db1`)\n",
    "8.  $\\frac{\\partial L}{\\partial X_{mlp}} = \\frac{\\partial L}{\\partial Z_1} W_1^T$ (`dL_i_mlp`) (gradient to pass to conv layers)"
   ]
  },
  {
   "cell_type": "code",
   "execution_count": 18,
   "id": "10736bba",
   "metadata": {},
   "outputs": [],
   "source": [
    "def ReLU_SoftMax_FC_Backward(bs,pred,labels,w1,w2,fa,fl,i_mlp):\n",
    "    dL_dz2 = pred-labels\n",
    "    dL_dw2 = fa.T @ dL_dz2\n",
    "    dL_db2 = np.sum(dL_dz2, axis=0)\n",
    "    dL_dfa = dL_dz2 @ w2.T\n",
    "    dReLU = (fl > 0).astype(float)\n",
    "    dL_dfl = dL_dfa * dReLU\n",
    "    dL_dw1 = i_mlp.reshape(bs, -1).T @ dL_dfl\n",
    "    dL_db1 = np.sum(dL_dfl, axis=0)\n",
    "    dL_i_mlp = dL_dfl @ w1.T\n",
    "    return dL_i_mlp,dL_dw1,dL_db1,dL_dw2,dL_db2"
   ]
  },
  {
   "cell_type": "markdown",
   "id": "4bbd7105",
   "metadata": {},
   "source": [
    "### Loss Function: Categorical Cross-Entropy"
   ]
  },
  {
   "cell_type": "markdown",
   "id": "0cf96a8c",
   "metadata": {},
   "source": [
    "`crossEntropy` calculates the Categorical Cross-Entropy loss for a single sample.\n",
    "\n",
    "**Formula:** Given predicted probabilities $P=(p_1, ..., p_K)$ and one-hot true label $Y=(y_1, ..., y_K)$:\n",
    "$$ L(P, Y) = - \\sum_{k=1}^{K} y_k \\log(p_k) $$\n",
    "If class $c$ is the true class ($y_c=1$), $L = - \\log(p_c)$.\n",
    "A small epsilon (`1/100000`) is added to $p$ to prevent $\\log(0)$."
   ]
  },
  {
   "cell_type": "code",
   "execution_count": 19,
   "id": "d1291609",
   "metadata": {},
   "outputs": [],
   "source": [
    "def log_softmax_numpy(x):\n",
    "    # x sono i logit, shape (N, C)\n",
    "    max_x = np.max(x, axis=-1, keepdims=True)\n",
    "    stable_x = x - max_x\n",
    "    # Aggiungi epsilon a np.sum per evitare log(0) se tutti gli exp sono 0 (improbabile con max sottratto)\n",
    "    log_sum_exp = np.log(np.sum(np.exp(stable_x), axis=-1, keepdims=True) + 1e-9) \n",
    "    return stable_x - log_sum_exp\n",
    "\n",
    "def nll_loss_numpy(log_probs, true_class_indices_flat):\n",
    "    # log_probs: output di log_softmax_numpy, shape (N, C)\n",
    "    # true_class_indices_flat: indici delle classi vere, shape (N,) es. np.array([idx1, idx2...])\n",
    "    N = log_probs.shape[0]\n",
    "    # Assicurati che true_class_indices_flat sia un array di interi per l'indicizzazione\n",
    "    return -log_probs[np.arange(N), true_class_indices_flat.astype(int)].mean()\n",
    "\n",
    "# def crossEntropy(logits, true_labels):\n",
    "#     return nll_loss_numpy(log_softmax_numpy(logits), true_labels)\n",
    "\n",
    "def crossEntropy(probabilities, true_labels):\n",
    "    return -np.sum(true_labels * np.log(probabilities + 1e-9)) / probabilities.shape[0]"
   ]
  },
  {
   "cell_type": "markdown",
   "id": "9fd49079",
   "metadata": {},
   "source": [
    "## Inference: Comparing Implementations"
   ]
  },
  {
   "cell_type": "markdown",
   "id": "694e3c9f",
   "metadata": {},
   "source": [
    "This section compares the inference performance and correctness of three CNN implementations: PyTorch, nested_loops, im2col and im2col_optimized. All use identical pre-trained weights.\n",
    "\n",
    "**Objectives:**\n",
    "1.  **Correctness:** Verify that all three models yield the same predictions.\n",
    "2.  **Performance measurement:** Compare average inference time per image.\n",
    "\n",
    "The loop iterates through test images, runs each model, records predictions and times. This demonstrates the efficiency gains from optimized libraries (PyTorch) and im2col approach over the naive loops one. The `padding` and `stride` parameters are set to match the PyTorch model's architecture."
   ]
  },
  {
   "cell_type": "code",
   "execution_count": 96,
   "id": "ab6c9713",
   "metadata": {},
   "outputs": [
    {
     "name": "stderr",
     "output_type": "stream",
     "text": [
      " Inferring...: 100%|██████████| 20/20 [00:23<00:00,  1.19s/it, accuracy=100.00 %, im2col=0.0038 s, im2col_blas=0.0147 s, im2col_opt=0.0031 s, nested_loops=2.4757 s, pytorch=0.0045 s]  "
     ]
    },
    {
     "name": "stdout",
     "output_type": "stream",
     "text": [
      "\n",
      "Average inference time in seconds:\n",
      "PyTorch:\t0.00214846134185791 s,\n",
      "im2col:\t\t0.0018279910087585448 s, \n",
      "im2col_optim:\t0.0014963626861572265 s, \n",
      "nested_loops:\t1.1760767459869386 s,\n",
      "im2col_blas:\t0.006983041763305664 s\n"
     ]
    },
    {
     "name": "stderr",
     "output_type": "stream",
     "text": [
      "\n"
     ]
    },
    {
     "data": {
      "application/vnd.plotly.v1+json": {
       "config": {
        "linkText": "Export to plot.ly",
        "plotlyServerURL": "https://plot.ly",
        "showLink": false
       },
       "data": [
        {
         "line": {
          "width": 2
         },
         "marker": {
          "size": 4
         },
         "mode": "lines+markers",
         "name": "pytorch_model",
         "type": "scatter",
         "x": [
          0,
          1,
          2,
          3,
          4,
          5,
          6,
          7,
          8,
          9,
          10,
          11,
          12,
          13,
          14,
          15,
          16,
          17,
          18,
          19
         ],
         "y": [
          0.0010156631469726562,
          0.0019457340240478516,
          0.0025026798248291016,
          0,
          0.0035181045532226562,
          0.002005338668823242,
          0.0009996891021728516,
          0.0020055770874023438,
          0.002997159957885742,
          0.0024080276489257812,
          0.0020041465759277344,
          0.0015039443969726562,
          0.0015239715576171875,
          0.004550933837890625,
          0.003515005111694336,
          0.002472400665283203,
          0.0029959678649902344,
          0.00099945068359375,
          0.0030045509338378906,
          0.0010008811950683594
         ]
        },
        {
         "line": {
          "width": 2
         },
         "marker": {
          "size": 4
         },
         "mode": "lines+markers",
         "name": "nested_loops",
         "type": "scatter",
         "x": [
          0,
          1,
          2,
          3,
          4,
          5,
          6,
          7,
          8,
          9,
          10,
          11,
          12,
          13,
          14,
          15,
          16,
          17,
          18,
          19
         ],
         "y": [
          1.951812982559204,
          1.1052265167236328,
          1.0736384391784668,
          1.1069872379302979,
          1.0937983989715576,
          1.0883080959320068,
          1.0827431678771973,
          1.0840754508972168,
          1.0873219966888428,
          1.086564064025879,
          1.100074052810669,
          1.1446995735168457,
          1.3711555004119873,
          1.323371171951294,
          1.248857021331787,
          1.1883916854858398,
          1.0887598991394043,
          1.1012423038482666,
          1.0898494720458984,
          1.1046578884124756
         ]
        },
        {
         "line": {
          "width": 2
         },
         "marker": {
          "size": 4
         },
         "mode": "lines+markers",
         "name": "im2col",
         "type": "scatter",
         "x": [
          0,
          1,
          2,
          3,
          4,
          5,
          6,
          7,
          8,
          9,
          10,
          11,
          12,
          13,
          14,
          15,
          16,
          17,
          18,
          19
         ],
         "y": [
          0,
          0.0010004043579101562,
          0.0028944015502929688,
          0.001965045928955078,
          0.0019998550415039062,
          0.0020051002502441406,
          0.0011293888092041016,
          0.002992391586303711,
          0.002998828887939453,
          0.0009970664978027344,
          0.0020020008087158203,
          0.0015172958374023438,
          0.0010001659393310547,
          0.002007007598876953,
          0.0010008811950683594,
          0.002000093460083008,
          0.0025305747985839844,
          0.001003265380859375,
          0.0010027885437011719,
          0.004513263702392578
         ]
        },
        {
         "line": {
          "width": 2
         },
         "marker": {
          "size": 4
         },
         "mode": "lines+markers",
         "name": "im2col_optimized",
         "type": "scatter",
         "x": [
          0,
          1,
          2,
          3,
          4,
          5,
          6,
          7,
          8,
          9,
          10,
          11,
          12,
          13,
          14,
          15,
          16,
          17,
          18,
          19
         ],
         "y": [
          0.0025107860565185547,
          0.001322031021118164,
          0.001001596450805664,
          0.0009982585906982422,
          0.0010004043579101562,
          0.0010004043579101562,
          0.0010256767272949219,
          0.0021975040435791016,
          0.002000093460083008,
          0.0012919902801513672,
          0,
          0.0010044574737548828,
          0.0045146942138671875,
          0.0010004043579101562,
          0.0010004043579101562,
          0.0020596981048583984,
          0.0010006427764892578,
          0.0009999275207519531,
          0.0009984970092773438,
          0.0029997825622558594
         ]
        },
        {
         "line": {
          "width": 2
         },
         "marker": {
          "size": 4
         },
         "mode": "lines+markers",
         "name": "im2col_optimized_blas",
         "type": "scatter",
         "x": [
          0,
          1,
          2,
          3,
          4,
          5,
          6,
          7,
          8,
          9,
          10,
          11,
          12,
          13,
          14,
          15,
          16,
          17,
          18,
          19
         ],
         "y": [
          0.0045070648193359375,
          0.00943303108215332,
          0.009018659591674805,
          0.019037246704101562,
          0.004002809524536133,
          0.0010004043579101562,
          0.006489992141723633,
          0.004511356353759766,
          0.007017612457275391,
          0.007002592086791992,
          0.008018255233764648,
          0.003512859344482422,
          0.009017705917358398,
          0.008035659790039062,
          0.003513336181640625,
          0.008002758026123047,
          0.0045108795166015625,
          0.006510257720947266,
          0.007999420166015625,
          0.00851893424987793
         ]
        }
       ],
       "layout": {
        "height": 500,
        "hovermode": "x unified",
        "legend": {
         "x": 0,
         "y": 1
        },
        "template": {
         "data": {
          "bar": [
           {
            "error_x": {
             "color": "#2a3f5f"
            },
            "error_y": {
             "color": "#2a3f5f"
            },
            "marker": {
             "line": {
              "color": "#E5ECF6",
              "width": 0.5
             },
             "pattern": {
              "fillmode": "overlay",
              "size": 10,
              "solidity": 0.2
             }
            },
            "type": "bar"
           }
          ],
          "barpolar": [
           {
            "marker": {
             "line": {
              "color": "#E5ECF6",
              "width": 0.5
             },
             "pattern": {
              "fillmode": "overlay",
              "size": 10,
              "solidity": 0.2
             }
            },
            "type": "barpolar"
           }
          ],
          "carpet": [
           {
            "aaxis": {
             "endlinecolor": "#2a3f5f",
             "gridcolor": "white",
             "linecolor": "white",
             "minorgridcolor": "white",
             "startlinecolor": "#2a3f5f"
            },
            "baxis": {
             "endlinecolor": "#2a3f5f",
             "gridcolor": "white",
             "linecolor": "white",
             "minorgridcolor": "white",
             "startlinecolor": "#2a3f5f"
            },
            "type": "carpet"
           }
          ],
          "choropleth": [
           {
            "colorbar": {
             "outlinewidth": 0,
             "ticks": ""
            },
            "type": "choropleth"
           }
          ],
          "contour": [
           {
            "colorbar": {
             "outlinewidth": 0,
             "ticks": ""
            },
            "colorscale": [
             [
              0,
              "#0d0887"
             ],
             [
              0.1111111111111111,
              "#46039f"
             ],
             [
              0.2222222222222222,
              "#7201a8"
             ],
             [
              0.3333333333333333,
              "#9c179e"
             ],
             [
              0.4444444444444444,
              "#bd3786"
             ],
             [
              0.5555555555555556,
              "#d8576b"
             ],
             [
              0.6666666666666666,
              "#ed7953"
             ],
             [
              0.7777777777777778,
              "#fb9f3a"
             ],
             [
              0.8888888888888888,
              "#fdca26"
             ],
             [
              1,
              "#f0f921"
             ]
            ],
            "type": "contour"
           }
          ],
          "contourcarpet": [
           {
            "colorbar": {
             "outlinewidth": 0,
             "ticks": ""
            },
            "type": "contourcarpet"
           }
          ],
          "heatmap": [
           {
            "colorbar": {
             "outlinewidth": 0,
             "ticks": ""
            },
            "colorscale": [
             [
              0,
              "#0d0887"
             ],
             [
              0.1111111111111111,
              "#46039f"
             ],
             [
              0.2222222222222222,
              "#7201a8"
             ],
             [
              0.3333333333333333,
              "#9c179e"
             ],
             [
              0.4444444444444444,
              "#bd3786"
             ],
             [
              0.5555555555555556,
              "#d8576b"
             ],
             [
              0.6666666666666666,
              "#ed7953"
             ],
             [
              0.7777777777777778,
              "#fb9f3a"
             ],
             [
              0.8888888888888888,
              "#fdca26"
             ],
             [
              1,
              "#f0f921"
             ]
            ],
            "type": "heatmap"
           }
          ],
          "histogram": [
           {
            "marker": {
             "pattern": {
              "fillmode": "overlay",
              "size": 10,
              "solidity": 0.2
             }
            },
            "type": "histogram"
           }
          ],
          "histogram2d": [
           {
            "colorbar": {
             "outlinewidth": 0,
             "ticks": ""
            },
            "colorscale": [
             [
              0,
              "#0d0887"
             ],
             [
              0.1111111111111111,
              "#46039f"
             ],
             [
              0.2222222222222222,
              "#7201a8"
             ],
             [
              0.3333333333333333,
              "#9c179e"
             ],
             [
              0.4444444444444444,
              "#bd3786"
             ],
             [
              0.5555555555555556,
              "#d8576b"
             ],
             [
              0.6666666666666666,
              "#ed7953"
             ],
             [
              0.7777777777777778,
              "#fb9f3a"
             ],
             [
              0.8888888888888888,
              "#fdca26"
             ],
             [
              1,
              "#f0f921"
             ]
            ],
            "type": "histogram2d"
           }
          ],
          "histogram2dcontour": [
           {
            "colorbar": {
             "outlinewidth": 0,
             "ticks": ""
            },
            "colorscale": [
             [
              0,
              "#0d0887"
             ],
             [
              0.1111111111111111,
              "#46039f"
             ],
             [
              0.2222222222222222,
              "#7201a8"
             ],
             [
              0.3333333333333333,
              "#9c179e"
             ],
             [
              0.4444444444444444,
              "#bd3786"
             ],
             [
              0.5555555555555556,
              "#d8576b"
             ],
             [
              0.6666666666666666,
              "#ed7953"
             ],
             [
              0.7777777777777778,
              "#fb9f3a"
             ],
             [
              0.8888888888888888,
              "#fdca26"
             ],
             [
              1,
              "#f0f921"
             ]
            ],
            "type": "histogram2dcontour"
           }
          ],
          "mesh3d": [
           {
            "colorbar": {
             "outlinewidth": 0,
             "ticks": ""
            },
            "type": "mesh3d"
           }
          ],
          "parcoords": [
           {
            "line": {
             "colorbar": {
              "outlinewidth": 0,
              "ticks": ""
             }
            },
            "type": "parcoords"
           }
          ],
          "pie": [
           {
            "automargin": true,
            "type": "pie"
           }
          ],
          "scatter": [
           {
            "fillpattern": {
             "fillmode": "overlay",
             "size": 10,
             "solidity": 0.2
            },
            "type": "scatter"
           }
          ],
          "scatter3d": [
           {
            "line": {
             "colorbar": {
              "outlinewidth": 0,
              "ticks": ""
             }
            },
            "marker": {
             "colorbar": {
              "outlinewidth": 0,
              "ticks": ""
             }
            },
            "type": "scatter3d"
           }
          ],
          "scattercarpet": [
           {
            "marker": {
             "colorbar": {
              "outlinewidth": 0,
              "ticks": ""
             }
            },
            "type": "scattercarpet"
           }
          ],
          "scattergeo": [
           {
            "marker": {
             "colorbar": {
              "outlinewidth": 0,
              "ticks": ""
             }
            },
            "type": "scattergeo"
           }
          ],
          "scattergl": [
           {
            "marker": {
             "colorbar": {
              "outlinewidth": 0,
              "ticks": ""
             }
            },
            "type": "scattergl"
           }
          ],
          "scattermap": [
           {
            "marker": {
             "colorbar": {
              "outlinewidth": 0,
              "ticks": ""
             }
            },
            "type": "scattermap"
           }
          ],
          "scattermapbox": [
           {
            "marker": {
             "colorbar": {
              "outlinewidth": 0,
              "ticks": ""
             }
            },
            "type": "scattermapbox"
           }
          ],
          "scatterpolar": [
           {
            "marker": {
             "colorbar": {
              "outlinewidth": 0,
              "ticks": ""
             }
            },
            "type": "scatterpolar"
           }
          ],
          "scatterpolargl": [
           {
            "marker": {
             "colorbar": {
              "outlinewidth": 0,
              "ticks": ""
             }
            },
            "type": "scatterpolargl"
           }
          ],
          "scatterternary": [
           {
            "marker": {
             "colorbar": {
              "outlinewidth": 0,
              "ticks": ""
             }
            },
            "type": "scatterternary"
           }
          ],
          "surface": [
           {
            "colorbar": {
             "outlinewidth": 0,
             "ticks": ""
            },
            "colorscale": [
             [
              0,
              "#0d0887"
             ],
             [
              0.1111111111111111,
              "#46039f"
             ],
             [
              0.2222222222222222,
              "#7201a8"
             ],
             [
              0.3333333333333333,
              "#9c179e"
             ],
             [
              0.4444444444444444,
              "#bd3786"
             ],
             [
              0.5555555555555556,
              "#d8576b"
             ],
             [
              0.6666666666666666,
              "#ed7953"
             ],
             [
              0.7777777777777778,
              "#fb9f3a"
             ],
             [
              0.8888888888888888,
              "#fdca26"
             ],
             [
              1,
              "#f0f921"
             ]
            ],
            "type": "surface"
           }
          ],
          "table": [
           {
            "cells": {
             "fill": {
              "color": "#EBF0F8"
             },
             "line": {
              "color": "white"
             }
            },
            "header": {
             "fill": {
              "color": "#C8D4E3"
             },
             "line": {
              "color": "white"
             }
            },
            "type": "table"
           }
          ]
         },
         "layout": {
          "annotationdefaults": {
           "arrowcolor": "#2a3f5f",
           "arrowhead": 0,
           "arrowwidth": 1
          },
          "autotypenumbers": "strict",
          "coloraxis": {
           "colorbar": {
            "outlinewidth": 0,
            "ticks": ""
           }
          },
          "colorscale": {
           "diverging": [
            [
             0,
             "#8e0152"
            ],
            [
             0.1,
             "#c51b7d"
            ],
            [
             0.2,
             "#de77ae"
            ],
            [
             0.3,
             "#f1b6da"
            ],
            [
             0.4,
             "#fde0ef"
            ],
            [
             0.5,
             "#f7f7f7"
            ],
            [
             0.6,
             "#e6f5d0"
            ],
            [
             0.7,
             "#b8e186"
            ],
            [
             0.8,
             "#7fbc41"
            ],
            [
             0.9,
             "#4d9221"
            ],
            [
             1,
             "#276419"
            ]
           ],
           "sequential": [
            [
             0,
             "#0d0887"
            ],
            [
             0.1111111111111111,
             "#46039f"
            ],
            [
             0.2222222222222222,
             "#7201a8"
            ],
            [
             0.3333333333333333,
             "#9c179e"
            ],
            [
             0.4444444444444444,
             "#bd3786"
            ],
            [
             0.5555555555555556,
             "#d8576b"
            ],
            [
             0.6666666666666666,
             "#ed7953"
            ],
            [
             0.7777777777777778,
             "#fb9f3a"
            ],
            [
             0.8888888888888888,
             "#fdca26"
            ],
            [
             1,
             "#f0f921"
            ]
           ],
           "sequentialminus": [
            [
             0,
             "#0d0887"
            ],
            [
             0.1111111111111111,
             "#46039f"
            ],
            [
             0.2222222222222222,
             "#7201a8"
            ],
            [
             0.3333333333333333,
             "#9c179e"
            ],
            [
             0.4444444444444444,
             "#bd3786"
            ],
            [
             0.5555555555555556,
             "#d8576b"
            ],
            [
             0.6666666666666666,
             "#ed7953"
            ],
            [
             0.7777777777777778,
             "#fb9f3a"
            ],
            [
             0.8888888888888888,
             "#fdca26"
            ],
            [
             1,
             "#f0f921"
            ]
           ]
          },
          "colorway": [
           "#636efa",
           "#EF553B",
           "#00cc96",
           "#ab63fa",
           "#FFA15A",
           "#19d3f3",
           "#FF6692",
           "#B6E880",
           "#FF97FF",
           "#FECB52"
          ],
          "font": {
           "color": "#2a3f5f"
          },
          "geo": {
           "bgcolor": "white",
           "lakecolor": "white",
           "landcolor": "#E5ECF6",
           "showlakes": true,
           "showland": true,
           "subunitcolor": "white"
          },
          "hoverlabel": {
           "align": "left"
          },
          "hovermode": "closest",
          "mapbox": {
           "style": "light"
          },
          "paper_bgcolor": "white",
          "plot_bgcolor": "#E5ECF6",
          "polar": {
           "angularaxis": {
            "gridcolor": "white",
            "linecolor": "white",
            "ticks": ""
           },
           "bgcolor": "#E5ECF6",
           "radialaxis": {
            "gridcolor": "white",
            "linecolor": "white",
            "ticks": ""
           }
          },
          "scene": {
           "xaxis": {
            "backgroundcolor": "#E5ECF6",
            "gridcolor": "white",
            "gridwidth": 2,
            "linecolor": "white",
            "showbackground": true,
            "ticks": "",
            "zerolinecolor": "white"
           },
           "yaxis": {
            "backgroundcolor": "#E5ECF6",
            "gridcolor": "white",
            "gridwidth": 2,
            "linecolor": "white",
            "showbackground": true,
            "ticks": "",
            "zerolinecolor": "white"
           },
           "zaxis": {
            "backgroundcolor": "#E5ECF6",
            "gridcolor": "white",
            "gridwidth": 2,
            "linecolor": "white",
            "showbackground": true,
            "ticks": "",
            "zerolinecolor": "white"
           }
          },
          "shapedefaults": {
           "line": {
            "color": "#2a3f5f"
           }
          },
          "ternary": {
           "aaxis": {
            "gridcolor": "white",
            "linecolor": "white",
            "ticks": ""
           },
           "baxis": {
            "gridcolor": "white",
            "linecolor": "white",
            "ticks": ""
           },
           "bgcolor": "#E5ECF6",
           "caxis": {
            "gridcolor": "white",
            "linecolor": "white",
            "ticks": ""
           }
          },
          "title": {
           "x": 0.05
          },
          "xaxis": {
           "automargin": true,
           "gridcolor": "white",
           "linecolor": "white",
           "ticks": "",
           "title": {
            "standoff": 15
           },
           "zerolinecolor": "white",
           "zerolinewidth": 2
          },
          "yaxis": {
           "automargin": true,
           "gridcolor": "white",
           "linecolor": "white",
           "ticks": "",
           "title": {
            "standoff": 15
           },
           "zerolinecolor": "white",
           "zerolinewidth": 2
          }
         }
        },
        "title": {
         "text": "Inference Time Comparison (Interactive)"
        },
        "width": 1400,
        "xaxis": {
         "title": {
          "text": "Batch Index"
         }
        },
        "yaxis": {
         "title": {
          "text": "Inference Time (s)"
         }
        }
       }
      }
     },
     "metadata": {},
     "output_type": "display_data"
    },
    {
     "data": {
      "image/png": "[encoded data removed]",
      "text/plain": [
       "<Figure size 800x400 with 1 Axes>"
      ]
     },
     "metadata": {},
     "output_type": "display_data"
    },
    {
     "data": {
      "image/png": "[encoded data removed]",
      "text/plain": [
       "<Figure size 800x400 with 1 Axes>"
      ]
     },
     "metadata": {},
     "output_type": "display_data"
    },
    {
     "name": "stdout",
     "output_type": "stream",
     "text": [
      "\n",
      "Descriptive Statistics of Inference Times:\n",
      "         PyTorch  Nested Loops     im2col  im2col Optimized  \\\n",
      "count  20.000000     20.000000  20.000000         20.000000   \n",
      "mean    0.002148      1.176077   0.001828          0.001496   \n",
      "std     0.001094      0.200960   0.001020          0.000986   \n",
      "min     0.000000      1.073638   0.000000          0.000000   \n",
      "25%     0.001382      1.088062   0.001002          0.001000   \n",
      "50%     0.002005      1.100658   0.001982          0.001003   \n",
      "75%     0.002996      1.155623   0.002138          0.002015   \n",
      "max     0.004551      1.951813   0.004513          0.004515   \n",
      "\n",
      "       im2col Optimized BLAS  \n",
      "count              20.000000  \n",
      "mean                0.006983  \n",
      "std                 0.003655  \n",
      "min                 0.001000  \n",
      "25%                 0.004510  \n",
      "50%                 0.007010  \n",
      "75%                 0.008156  \n",
      "max                 0.019037  \n"
     ]
    }
   ],
   "source": [
    "import time\n",
    "from tqdm import tqdm\n",
    "import matplotlib.pyplot as plt\n",
    "import plotly.graph_objs as go\n",
    "import plotly.offline as pyoff\n",
    "import pandas as pd\n",
    "import sys\n",
    "import gc\n",
    "\n",
    "np_k1 = numpy_weights['k1'].astype(np.float32)\n",
    "np_b_conv1 = numpy_weights['b_conv1'].astype(np.float32)\n",
    "np_k2 = numpy_weights['k2'].astype(np.float32)\n",
    "np_b_conv2 = numpy_weights['b_conv2'].astype(np.float32)\n",
    "np_k3 = numpy_weights['k3'].astype(np.float32)\n",
    "np_b_conv3 = numpy_weights['b_conv3'].astype(np.float32)\n",
    "np_w1 = numpy_weights['w1'].astype(np.float32)\n",
    "np_b1 = numpy_weights['b1'].astype(np.float32)\n",
    "np_w2 = numpy_weights['w2'].astype(np.float32)\n",
    "np_b2 = numpy_weights['b2'].astype(np.float32)\n",
    "\n",
    "dict_times={}\n",
    "dict_times[\"pytorch_model\"]=[]\n",
    "dict_times[\"nested_loops\"]=[]\n",
    "dict_times[\"im2col\"]=[]\n",
    "dict_times[\"im2col_optimized\"]=[]\n",
    "dict_times[\"im2col_optimized_blas\"]=[]\n",
    "\n",
    "dict_pred={}\n",
    "dict_pred[\"pytorch_model\"]=[]\n",
    "dict_pred[\"nested_loops\"]=[]\n",
    "dict_pred[\"im2col\"]=[]\n",
    "dict_pred[\"im2col_optimized\"]=[]\n",
    "dict_pred[\"im2col_optimized_blas\"]=[]\n",
    "\n",
    "# torch garbage collection\n",
    "torch.cuda.empty_cache()\n",
    "gc.collect()\n",
    "\n",
    "correct = 0\n",
    "count = 0\n",
    "\n",
    "skip = True\n",
    "loop = tqdm(range(0, test_labels.shape[0], 500), desc=\" Inferring...\")\n",
    "for i in loop:\n",
    "    c0 = test_images[i].reshape(1,1,28,28)\n",
    "    torch_c0 = torch.from_numpy(c0).float()\n",
    "\n",
    "    ############### CNN PyTorch Implementation ##################\n",
    "    start_time = time.time()\n",
    "    outputs = model(torch_c0)\n",
    "    end_time = time.time()\n",
    "    _, pred_pytorch = torch.max(outputs.data, 1)\n",
    "    dict_times[\"pytorch_model\"].append(end_time-start_time)\n",
    "    dict_pred[\"pytorch_model\"].append(np.array(pred_pytorch))\n",
    "\n",
    "    ############### CNN nested loops Implementation #####################\n",
    "    start_time = time.time()\n",
    "    c1s,mask1s = nested_loop_convolution(c0,np_k1,np_b_conv1,padding=0,stride=2)\n",
    "    c2s,mask2s = nested_loop_convolution(c1s,np_k2,np_b_conv2,padding=1,stride=2)\n",
    "    c3s,mask3s = nested_loop_convolution(c2s,np_k3,np_b_conv3,padding=0,stride=2)\n",
    "    imlps = c3s.reshape(1,-1)\n",
    "    _,_,_,res = ReLU_SoftMax_FullyConnected(imlps,np_w1,np_b1,np_w2,np_b2)\n",
    "    pred_nested_loops = np.argmax(res,1)\n",
    "    end_time = time.time()\n",
    "    dict_times[\"nested_loops\"].append(end_time-start_time)\n",
    "    dict_pred[\"nested_loops\"].append(np.array(pred_nested_loops))\n",
    "\n",
    "    ############### CNN im2col Implementation #####################\n",
    "    start_time = time.time()\n",
    "    c1f,mask1f = im2col_convolution(c0,np_k1,np_b_conv1,padding=0,stride=2)\n",
    "    c2f,mask2f = im2col_convolution(c1f,np_k2,np_b_conv2,padding=1,stride=2)\n",
    "    c3f,mask3f = im2col_convolution(c2f,np_k3,np_b_conv3,padding=0,stride=2)\n",
    "    imlpf = c3f.reshape(1,-1)\n",
    "    _,_,_,res = ReLU_SoftMax_FullyConnected(imlpf,np_w1,np_b1,np_w2,np_b2)\n",
    "    pred_im2col = np.argmax(res,1)\n",
    "    end_time = time.time()\n",
    "    dict_times[\"im2col\"].append(end_time-start_time)\n",
    "    dict_pred[\"im2col\"].append(np.array(pred_im2col))\n",
    "\n",
    "    ############## CNN optimized im2col Implementation ###########\n",
    "    start_time = time.time()\n",
    "    c1c,mask1c = im2col_optimized(c0,np_k1,np_b_conv1,padding=0,stride=2)\n",
    "    c2c,mask2c = im2col_optimized(c1c,np_k2,np_b_conv2,padding=1,stride=2)\n",
    "    c3c,mask3c = im2col_optimized(c2c,np_k3,np_b_conv3,padding=0,stride=2)\n",
    "    imlpc = c3c.reshape(1,-1)\n",
    "    _,_,_,res = ReLU_SoftMax_FullyConnected(imlpc,np_w1,np_b1,np_w2,np_b2)\n",
    "    pred_im2col_optim = np.argmax(res,1)\n",
    "    end_time = time.time()\n",
    "    dict_times[\"im2col_optimized\"].append(end_time-start_time)\n",
    "    dict_pred[\"im2col_optimized\"].append(np.array(pred_im2col_optim))\n",
    "\n",
    "    ############## CNN BLAS im2col Implementation ###########\n",
    "    start_time = time.time()\n",
    "    c1c,mask1c = im2col_optimized_blas(c0,np_k1,np_b_conv1,padding=0,stride=2)\n",
    "    c2c,mask2c = im2col_optimized_blas(c1c,np_k2,np_b_conv2,padding=1,stride=2)\n",
    "    c3c,mask3c = im2col_optimized_blas(c2c,np_k3,np_b_conv3,padding=0,stride=2)\n",
    "    imlpc = c3c.reshape(1,-1)\n",
    "    _,_,_,res = ReLU_SoftMax_FullyConnected(imlpc,np_w1,np_b1,np_w2,np_b2)\n",
    "    pred_im2col_blas = np.argmax(res,1)\n",
    "    end_time = time.time()\n",
    "    dict_times[\"im2col_optimized_blas\"].append(end_time-start_time)\n",
    "    dict_pred[\"im2col_optimized_blas\"].append(np.array(pred_im2col_blas))\n",
    "\n",
    "    #####################################################################################\n",
    "    #### Check that outputs of Slow Approach and Fast Approach have the same results ###\n",
    "    if pred_pytorch == pred_nested_loops and pred_pytorch == pred_im2col and pred_pytorch == pred_im2col_optim and pred_pytorch == pred_im2col_blas:\n",
    "        correct += 1\n",
    "\n",
    "    count += 1\n",
    "\n",
    "    #####################################################################################\n",
    "    ### Keep track of the times #########################################################\n",
    "    pytorch_avg_time = round(sum(dict_times['pytorch_model'])/(i+1),10) * 1000\n",
    "    nested_loops_avg_time = round(sum(dict_times['nested_loops'])/(i+1),10) * 1000\n",
    "    im2col_avg_time = round(sum(dict_times['im2col'])/(i+1),10) * 1000\n",
    "    im2col_optim_avg_time = round(sum(dict_times['im2col_optimized'])/(i+1),10) * 1000\n",
    "    im2col_blas_avg_time = round(sum(dict_times['im2col_optimized_blas'])/(i+1),10) * 1000\n",
    "\n",
    "    accuracy_percentage = (correct / count) * 100 if count > 0 else 0.0\n",
    "\n",
    "    loop.set_postfix(\n",
    "        pytorch=f\"{pytorch_avg_time:>8.4f} s\",\n",
    "        im2col=f\"{im2col_avg_time:>8.4f} s\",\n",
    "        im2col_opt=f\"{im2col_optim_avg_time:>8.4f} s\",\n",
    "        nested_loops=f\"{nested_loops_avg_time:>8.4f} s\",\n",
    "        im2col_blas=f\"{im2col_blas_avg_time:>8.4f} s\",\n",
    "        accuracy=f\"{accuracy_percentage:>7.2f} %\"\n",
    "    )\n",
    "\n",
    "sys.stdout.write(\"\\n\")\n",
    "sys.stdout.flush()\n",
    "\n",
    "pytorch_avg_time = np.mean(dict_times['pytorch_model'])\n",
    "nested_loops_avg_time = np.mean(dict_times['nested_loops'])\n",
    "im2col_avg_time = np.mean(dict_times['im2col'])\n",
    "im2col_optim_avg_time = np.mean(dict_times['im2col_optimized'])\n",
    "im2col_blas_avg_time = np.mean(dict_times['im2col_optimized_blas'])\n",
    "\n",
    "print(f\"Average inference time in seconds:\\nPyTorch:\\t{pytorch_avg_time} s,\\nim2col:\\t\\t{im2col_avg_time} s, \\nim2col_optim:\\t{im2col_optim_avg_time} s, \\nnested_loops:\\t{nested_loops_avg_time} s,\\nim2col_blas:\\t{im2col_blas_avg_time} s\")\n",
    "\n",
    "# Plot times altogether\n",
    "\n",
    "# Create interactive traces for each method\n",
    "for method, times in dict_times.items():\n",
    "    trace = go.Scatter(\n",
    "        x=list(range(len(times))),\n",
    "        y=times,\n",
    "        mode='lines+markers',\n",
    "        name=method,\n",
    "        line=dict(width=2),\n",
    "        marker=dict(size=4)\n",
    "    )\n",
    "    if method == 'pytorch_model':\n",
    "        trace_pytorch = trace\n",
    "    elif method == 'nested_loops':\n",
    "        trace_nested_loops = trace\n",
    "    elif method == 'im2col':\n",
    "        trace_im2col = trace\n",
    "    elif method == 'im2col_optimized':\n",
    "        trace_im2col_optimized = trace\n",
    "    elif method == 'im2col_optimized_blas':\n",
    "        trace_blas = trace\n",
    "\n",
    "data = [trace_pytorch, trace_nested_loops, trace_im2col, trace_im2col_optimized, trace_blas]\n",
    "\n",
    "layout = go.Layout(\n",
    "    title='Inference Time Comparison (Interactive)',\n",
    "    xaxis=dict(title='Batch Index'),\n",
    "    yaxis=dict(title='Inference Time (s)'),\n",
    "    width=1400,\n",
    "    height=500,\n",
    "    legend=dict(x=0, y=1),\n",
    "    hovermode='x unified'\n",
    ")\n",
    "\n",
    "fig = go.Figure(data=data, layout=layout)\n",
    "pyoff.iplot(fig)\n",
    "\n",
    "# Also plot some boxplots for better visualization\n",
    "plt.figure(figsize=(8, 4))\n",
    "plt.boxplot([dict_times['pytorch_model'], dict_times['im2col'], dict_times['im2col_optimized'], dict_times['im2col_optimized_blas']],\n",
    "            tick_labels=['PyTorch', 'im2col', 'im2col Optimized', 'im2col Optimized BLAS'],\n",
    "            showfliers=False)\n",
    "plt.ylabel('Inference Time (s)')\n",
    "plt.title('Boxplot of Inference Times')\n",
    "plt.grid()\n",
    "plt.show()\n",
    "\n",
    "plt.figure(figsize=(8, 4))\n",
    "plt.boxplot([dict_times['pytorch_model'], dict_times['im2col'], dict_times['im2col_optimized']],\n",
    "            tick_labels=['PyTorch', 'im2col', 'im2col Optimized'],\n",
    "            showfliers=False)\n",
    "plt.ylabel('Inference Time (s)')\n",
    "plt.title('Boxplot of Inference Times')\n",
    "plt.grid()\n",
    "plt.show()\n",
    "\n",
    "df_times = pd.DataFrame({\n",
    "    'PyTorch': dict_times['pytorch_model'],\n",
    "    'Nested Loops': dict_times['nested_loops'],\n",
    "    'im2col': dict_times['im2col'],\n",
    "    'im2col Optimized': dict_times['im2col_optimized'],\n",
    "    'im2col Optimized BLAS': dict_times['im2col_optimized_blas']\n",
    "})\n",
    "print(\"\\nDescriptive Statistics of Inference Times:\")\n",
    "print(df_times.describe())"
   ]
  },
  {
   "cell_type": "markdown",
   "id": "40abe784",
   "metadata": {},
   "source": [
    "## Training"
   ]
  },
  {
   "cell_type": "markdown",
   "id": "6e9f8f80",
   "metadata": {},
   "source": [
    "In this panel the approach is tested to see if it learns or not. the test uses first just one image, then the first 100 for each eopch, in order to see if the loss descends during the training"
   ]
  },
  {
   "cell_type": "markdown",
   "id": "4a3a476a",
   "metadata": {},
   "source": [
    "### NumPy Model Training: Weights Initialization\n",
    "\n",
    "For training our NumPy CNNs from scratch, weights and biases are initialized randomly.\n",
    "The shapes are taken from `numpy_weights` (derived from the PyTorch model) to maintain architectural consistency. `np.random.rand()` provides initial values (uniform in [0,1)). While more advanced initializers exist, this suffices for observing basic learning."
   ]
  },
  {
   "cell_type": "code",
   "execution_count": 20,
   "id": "733935b2",
   "metadata": {},
   "outputs": [],
   "source": [
    "random_seed = 42\n",
    "np.random.seed(random_seed)\n",
    "\n",
    "def initialize_weights():\n",
    "    weights = {}\n",
    "    weights['k1'] = np.random.rand(*numpy_weights['k1'].shape)\n",
    "    weights['bc1'] = np.random.rand(*numpy_weights['b_conv1'].shape)\n",
    "    weights['k2'] = np.random.rand(*numpy_weights['k2'].shape)\n",
    "    weights['bc2'] = np.random.rand(*numpy_weights['b_conv2'].shape)\n",
    "    weights['k3'] = np.random.rand(*numpy_weights['k3'].shape)\n",
    "    weights['bc3'] = np.random.rand(*numpy_weights['b_conv3'].shape)\n",
    "    weights['w1'] = np.random.rand(*numpy_weights['w1'].shape)\n",
    "    weights['b1'] = np.random.rand(*numpy_weights['b1'].shape)\n",
    "    weights['w2'] = np.random.rand(*numpy_weights['w2'].shape)\n",
    "    weights['b2'] = np.random.rand(*numpy_weights['b2'].shape)\n",
    "    return weights\n",
    "\n",
    "weights = initialize_weights()"
   ]
  },
  {
   "cell_type": "code",
   "execution_count": 29,
   "id": "fb961207",
   "metadata": {},
   "outputs": [
    {
     "data": {
      "image/png": "[encoded data removed]",
      "text/plain": [
       "<Figure size 700x400 with 1 Axes>"
      ]
     },
     "metadata": {},
     "output_type": "display_data"
    },
    {
     "name": "stdout",
     "output_type": "stream",
     "text": [
      "Nested Loops (3 epochs): -0.000000\n",
      "Predict: 5\n",
      "Probabilities: [[0.08533674 0.08533674 0.08533674 0.08533674 0.08533674 0.23196934\n",
      "  0.08533674 0.08533674 0.08533674 0.08533674]]\n",
      "\n",
      "Im2Col: -0.000000\n",
      "Predict: 5\n",
      "Probabilities: [[0.08533674 0.08533674 0.08533674 0.08533674 0.08533674 0.23196934\n",
      "  0.08533674 0.08533674 0.08533674 0.08533674]]\n",
      "\n",
      "Im2Col Optimized: -0.000000\n",
      "Predict: 5\n",
      "Probabilities: [[0.08533674 0.08533674 0.08533674 0.08533674 0.08533674 0.23196934\n",
      "  0.08533674 0.08533674 0.08533674 0.08533674]]\n",
      "\n",
      "Im2Col Optimized BLAS: -0.000000\n",
      "Predict: 5\n",
      "Probabilities: [[0.08533674 0.08533674 0.08533674 0.08533674 0.08533674 0.23196934\n",
      "  0.08533674 0.08533674 0.08533674 0.08533674]]\n",
      "\n"
     ]
    }
   ],
   "source": [
    "import matplotlib.pyplot as plt\n",
    "import time\n",
    "from tqdm import tqdm # Ensure tqdm is imported\n",
    "\n",
    "# --- Helper: NumPy Single Image Training ---\n",
    "def train_single_image_numpy(\n",
    "    initial_weights_dict, \n",
    "    train_image_np, # (1, 1, 28, 28), normalized\n",
    "    train_label_np, # one-hot (1, 10)\n",
    "    forward_conv_fn, \n",
    "    backward_conv_fn, \n",
    "    num_epochs, \n",
    "    lr,\n",
    "    bs=1 # Batch size, fixed to 1 for single image training\n",
    "    ):\n",
    "\n",
    "    # Initialize weights (make copies to not modify the initial_weights_dict)\n",
    "    k1 = initial_weights_dict['k1'].copy().astype(np.float32)\n",
    "    bc1 = initial_weights_dict['bc1'].copy().astype(np.float32)\n",
    "    k2 = initial_weights_dict['k2'].copy().astype(np.float32)\n",
    "    bc2 = initial_weights_dict['bc2'].copy().astype(np.float32)\n",
    "    k3 = initial_weights_dict['k3'].copy().astype(np.float32)\n",
    "    bc3 = initial_weights_dict['bc3'].copy().astype(np.float32)\n",
    "    w1 = initial_weights_dict['w1'].copy().astype(np.float32)\n",
    "    b1 = initial_weights_dict['b1'].copy().astype(np.float32)\n",
    "    w2 = initial_weights_dict['w2'].copy().astype(np.float32)\n",
    "    b2 = initial_weights_dict['b2'].copy().astype(np.float32)\n",
    "    \n",
    "    losses = []\n",
    "\n",
    "    for epoch in range(num_epochs):\n",
    "        # Forward pass\n",
    "        c1_out, mask1 = forward_conv_fn(train_image_np, k1, bc1, padding=0, stride=2, applyReLU=True)\n",
    "        c2_out, mask2 = forward_conv_fn(c1_out, k2, bc2, padding=1, stride=2, applyReLU=True)\n",
    "        c3_out, mask3 = forward_conv_fn(c2_out, k3, bc3, padding=0, stride=2, applyReLU=True)\n",
    "        \n",
    "        mlp_input = c3_out.reshape(bs, -1)\n",
    "        fl, fa, sl, sa = ReLU_SoftMax_FullyConnected(mlp_input, w1, b1, w2, b2)\n",
    "        \n",
    "        # Loss\n",
    "        loss = crossEntropy(sa, train_label_np) # Ensure train_label_np is (1, 10)\n",
    "        losses.append(loss)\n",
    "        \n",
    "        # Backward pass\n",
    "        dL_i_mlp, dL_dw1, dL_db1, dL_dw2, dL_db2 = ReLU_SoftMax_FC_Backward(bs, sa, train_label_np, w1, w2, fa, fl, mlp_input)\n",
    "        dL_i_mlp_reshaped = dL_i_mlp.reshape(c3_out.shape)\n",
    "        \n",
    "        gi3, gk3, gb3 = backward_conv_fn(c2_out, dL_i_mlp_reshaped, k3, mask3, padding=0, stride=2)\n",
    "        gi2, gk2, gb2 = backward_conv_fn(c1_out, gi3, k2, mask2, padding=1, stride=2)\n",
    "        gi1, gk1, gb1 = backward_conv_fn(train_image_np, gi2, k1, mask1, padding=0, stride=2)\n",
    "        \n",
    "        # Weight update\n",
    "        w1  -= lr * dL_dw1\n",
    "        b1  -= lr * dL_db1.reshape(b1.shape) # Ensure b1 update matches b1 shape\n",
    "        w2  -= lr * dL_dw2\n",
    "        b2  -= lr * dL_db2.reshape(b2.shape) # Ensure b2 update matches b2 shape\n",
    "        k1  -= lr * gk1\n",
    "        bc1 -= lr * gb1.reshape(bc1.shape)\n",
    "        k2  -= lr * gk2\n",
    "        bc2 -= lr * gb2.reshape(bc2.shape)\n",
    "        k3  -= lr * gk3\n",
    "        bc3 -= lr * gb3.reshape(bc3.shape)\n",
    "        \n",
    "    return losses, {\"k1\":k1, \"k2\":k2, \"k3\":k3, \"w1\":w1, \"w2\":w2, \"bc1\":bc1, \"bc2\":bc2, \"bc3\":bc3, \"b1\":b1, \"b2\":b2} # Return final weights\n",
    "\n",
    "# --- Training Setup ---\n",
    "# Prepare single training image and label\n",
    "# Assuming train_images and train_labels are already loaded and one-hot encoded\n",
    "single_train_image_np = train_images[0].reshape(1, 1, 28, 28).astype(np.float32) / 255.0\n",
    "single_train_label_np = train_labels[0].reshape(1,10).astype(np.float32) # Ensure it's (1,10)\n",
    "\n",
    "single_train_image_torch = torch.from_numpy(single_train_image_np)\n",
    "# For CrossEntropyLoss, PyTorch can take one-hot targets if they have shape (N,C)\n",
    "# or class indices (N). Let's use one-hot to be consistent with NumPy loss.\n",
    "single_train_label_torch = torch.from_numpy(single_train_label_np)\n",
    "\n",
    "\n",
    "num_epochs_single_img = 5\n",
    "lr_single_img = 0.001\n",
    "\n",
    "all_losses = {}\n",
    "\n",
    "# --- Train Nested Loops NumPy Model ---\n",
    "# This will be very slow, consider reducing num_epochs_single_img for this one if needed for quick testing\n",
    "# print(\"Training Nested Loops NumPy model on a single image...\")\n",
    "nested_loops_losses, _ = train_single_image_numpy(weights, single_train_image_np, single_train_label_np, \n",
    "                                                nested_loop_convolution, nested_loop_gradient, \n",
    "                                                3, lr_single_img) # Reduced epochs for speed\n",
    "all_losses['Nested Loops (3 epochs)'] = nested_loops_losses\n",
    "# print(\"Done.\\n\")\n",
    "\n",
    "# --- Train Im2Col (Unoptimized) NumPy Model ---\n",
    "# print(\"Training Im2Col NumPy model on a single image...\")\n",
    "im2col_losses, _ = train_single_image_numpy(weights, single_train_image_np, single_train_label_np, \n",
    "                                       im2col_convolution, im2col_gradient, \n",
    "                                       num_epochs_single_img, lr_single_img)\n",
    "all_losses['Im2Col'] = im2col_losses\n",
    "# print(\"Done.\\n\")\n",
    "\n",
    "# --- Train Im2Col Optimized NumPy Model ---\n",
    "# print(\"Training Im2Col Optimized NumPy model on a single image...\")\n",
    "im2col_opt_losses, _ = train_single_image_numpy(weights, single_train_image_np, single_train_label_np, \n",
    "                                           im2col_optimized, im2col_gradient_optimized, \n",
    "                                           num_epochs_single_img, lr_single_img)\n",
    "all_losses['Im2Col Optimized'] = im2col_opt_losses\n",
    "# print(\"Done.\\n\")\n",
    "\n",
    "# --- Train Im2Col Optimized BLAS NumPy Model ---\n",
    "# print(\"Training Im2Col Optimized BLAS NumPy model on a single image...\")\n",
    "im2col_blas_losses, _ = train_single_image_numpy(weights, single_train_image_np, single_train_label_np, \n",
    "                                            im2col_optimized_blas, im2col_gradient_optimized_blas, \n",
    "                                            num_epochs_single_img, lr_single_img)\n",
    "all_losses['Im2Col Optimized BLAS'] = im2col_blas_losses\n",
    "# print(\"Done.\\n\")\n",
    "\n",
    "# --- Plotting Losses ---\n",
    "plt.figure(figsize=(7, 4))\n",
    "for method_name, losses_list in all_losses.items():\n",
    "    plt.plot(losses_list, label=method_name)\n",
    "\n",
    "plt.xlabel(\"Epoch\")\n",
    "plt.ylabel(\"Loss\")\n",
    "plt.title(\"Single Image Training Loss Comparison\")\n",
    "plt.legend()\n",
    "plt.grid(True)\n",
    "plt.show()\n",
    "\n",
    "# --- Compare final losses (approximate check) ---\n",
    "# print(\"\\nFinal losses after training on a single image:\")\n",
    "for method_name, losses_list in all_losses.items():\n",
    "    if losses_list: # Check if list is not empty\n",
    "        print(f\"{method_name}: {losses_list[-1]:.6f}\\nPredict: {np.argmax(single_train_label_np)}\\nProbabilities: {softmax(single_train_label_np)}\\n\")"
   ]
  },
  {
   "cell_type": "markdown",
   "id": "8f437e42",
   "metadata": {},
   "source": [
    "* ### Pytorch version"
   ]
  },
  {
   "cell_type": "code",
   "execution_count": 86,
   "id": "950f7d94",
   "metadata": {},
   "outputs": [
    {
     "name": "stderr",
     "output_type": "stream",
     "text": [
      "100%|██████████| 20/20 [00:00<00:00, 306.15it/s]"
     ]
    },
    {
     "name": "stdout",
     "output_type": "stream",
     "text": [
      "Final logits: [ 1.3480205e+05  1.2573266e+05 -1.2074309e+09  1.2417880e+05\n",
      "  1.2127320e+05  1.2076914e+09  1.2308734e+05  1.2487083e+05\n",
      "  1.2810571e+05  1.2339884e+05]\n",
      "Final prediction: 5\n"
     ]
    },
    {
     "name": "stderr",
     "output_type": "stream",
     "text": [
      "\n"
     ]
    },
    {
     "data": {
      "image/png": "[encoded data removed]",
      "text/plain": [
       "<Figure size 640x480 with 1 Axes>"
      ]
     },
     "metadata": {},
     "output_type": "display_data"
    }
   ],
   "source": [
    "import matplotlib.pyplot as plt\n",
    "import numpy as np\n",
    "import torch\n",
    "\n",
    "avg_loss = []\n",
    "forward_time = []\n",
    "backward_time = []\n",
    "numEpochs = 20\n",
    "bs = 1\n",
    "lr = 0.001\n",
    "\n",
    "# Convert and reshape weights for PyTorch (Conv2d expects (out_channels, in_channels, H, W), Linear expects (out_features, in_features))\n",
    "k1 = torch.from_numpy(weights['k1'].astype(np.float32)).clone()\n",
    "bc1 = torch.from_numpy(weights['bc1'].astype(np.float32)).clone()\n",
    "k2 = torch.from_numpy(weights['k2'].astype(np.float32)).clone()\n",
    "bc2 = torch.from_numpy(weights['bc2'].astype(np.float32)).clone()\n",
    "k3 = torch.from_numpy(weights['k3'].astype(np.float32)).clone()\n",
    "bc3 = torch.from_numpy(weights['bc3'].astype(np.float32)).clone()\n",
    "w1 = torch.from_numpy(weights['w1'].astype(np.float32)).clone()\n",
    "if w1.ndim == 2:\n",
    "    w1 = w1\n",
    "elif w1.ndim == 1:\n",
    "    w1 = w1.unsqueeze(0)\n",
    "b1 = torch.from_numpy(weights['b1'].astype(np.float32)).clone().view(-1)\n",
    "w2 = torch.from_numpy(weights['w2'].astype(np.float32)).clone()\n",
    "if w2.ndim == 2:\n",
    "    w2 = w2\n",
    "elif w2.ndim == 1:\n",
    "    w2 = w2.unsqueeze(0)\n",
    "b2 = torch.from_numpy(weights['b2'].astype(np.float32)).clone().view(-1)\n",
    "\n",
    "pytorch_model = SimpleCNN(num_classes=10)\n",
    "pytorch_model.load_state_dict({\n",
    "    'conv1.weight': k1,\n",
    "    'conv1.bias': bc1,\n",
    "    'conv2.weight': k2,\n",
    "    'conv2.bias': bc2,\n",
    "    'conv3.weight': k3,\n",
    "    'conv3.bias': bc3,\n",
    "    'fc1.weight': w1.T,\n",
    "    'fc1.bias': b1,\n",
    "    'fc2.weight': w2.T,\n",
    "    'fc2.bias': b2\n",
    "})\n",
    "\n",
    "optimizer = torch.optim.SGD(pytorch_model.parameters(), lr=0.001)\n",
    "\n",
    "loop = tqdm(range(numEpochs))\n",
    "for i in loop:\n",
    "    c0 = torch.from_numpy(train_images[0].reshape(1,1,28,28).astype(np.float32) / 255.0)\n",
    "    \n",
    "    prediction = pytorch_model(c0)\n",
    "    \n",
    "    loss = nn.CrossEntropyLoss()(prediction[0], torch.tensor(train_labels[0]))\n",
    "    avg_loss.append(loss.item())\n",
    "    optimizer.zero_grad()\n",
    "\n",
    "    # Weights update\n",
    "    loss.backward()\n",
    "    \n",
    "    optimizer.step()\n",
    "\n",
    "    if i == numEpochs - 1:\n",
    "        # Get the result before the last relu\n",
    "        logits = prediction[0].detach().numpy()\n",
    "    \n",
    "\n",
    "# Plot the loss\n",
    "print(f\"Final logits: {logits}\")\n",
    "print(f\"Final prediction: {np.argmax(logits)}\")\n",
    "plt.plot(avg_loss)\n",
    "plt.show()"
   ]
  },
  {
   "cell_type": "markdown",
   "id": "1c31db12",
   "metadata": {},
   "source": [
    "---"
   ]
  },
  {
   "cell_type": "markdown",
   "id": "2f8b5032",
   "metadata": {},
   "source": [
    "### CuPy optimization"
   ]
  },
  {
   "cell_type": "code",
   "execution_count": 30,
   "id": "00419e35",
   "metadata": {},
   "outputs": [
    {
     "ename": "ModuleNotFoundError",
     "evalue": "No module named 'cupy'",
     "output_type": "error",
     "traceback": [
      "\u001b[1;31m---------------------------------------------------------------------------\u001b[0m",
      "\u001b[1;31mModuleNotFoundError\u001b[0m                       Traceback (most recent call last)",
      "Cell \u001b[1;32mIn[30], line 1\u001b[0m\n\u001b[1;32m----> 1\u001b[0m \u001b[38;5;28;01mimport\u001b[39;00m\u001b[38;5;250m \u001b[39m\u001b[38;5;21;01mcupy\u001b[39;00m\u001b[38;5;250m \u001b[39m\u001b[38;5;28;01mas\u001b[39;00m\u001b[38;5;250m \u001b[39m\u001b[38;5;21;01mcp\u001b[39;00m\n\u001b[0;32m      2\u001b[0m \u001b[38;5;28;01mimport\u001b[39;00m\u001b[38;5;250m \u001b[39m\u001b[38;5;21;01mtime\u001b[39;00m\n\u001b[0;32m      4\u001b[0m \u001b[38;5;66;03m# --- CuPy dilate function (similar to NumPy's) ---\u001b[39;00m\n",
      "\u001b[1;31mModuleNotFoundError\u001b[0m: No module named 'cupy'"
     ]
    }
   ],
   "source": [
    "import cupy as cp\n",
    "import time\n",
    "\n",
    "# --- CuPy dilate function (similar to NumPy's) ---\n",
    "def dilate_cupy(tensor_cp, stride):\n",
    "    if stride == 1:\n",
    "        return tensor_cp\n",
    "    batch_size, num_channels, height, width = tensor_cp.shape\n",
    "    dilated_height = height + (height - 1) * (stride - 1)\n",
    "    dilated_width = width + (width - 1) * (stride - 1)\n",
    "    dilated_tensor_cp = cp.zeros((batch_size, num_channels, dilated_height, dilated_width), dtype=tensor_cp.dtype)\n",
    "    dilated_tensor_cp[:, :, ::stride, ::stride] = tensor_cp\n",
    "    return dilated_tensor_cp\n",
    "\n",
    "# --- CuPy im2col_optimized_forward (inspired by your im2col_optimized) ---\n",
    "def im2col_cupy_forward(batch_of_images_cp, kernels_cp, biases_cp=None, padding=0, stride=1, applyReLU=True):\n",
    "    kernels_number, kernel_channels, kernel_height, kernel_width = kernels_cp.shape\n",
    "    \n",
    "    if padding > 0:\n",
    "        batch_of_images_padded_cp = cp.pad(batch_of_images_cp, \n",
    "                                         ((0,0),(0,0),(padding,padding),(padding,padding)), \n",
    "                                         mode='constant', constant_values=0)\n",
    "    else:\n",
    "        batch_of_images_padded_cp = batch_of_images_cp\n",
    "\n",
    "    batch_size, input_channels, image_height_padded, image_width_padded = batch_of_images_padded_cp.shape\n",
    "\n",
    "    # CuPy's as_strided is equivalent to np.lib.stride_tricks.sliding_window_view's underlying mechanism\n",
    "    # Output patch shape: (input_channels, kernel_height, kernel_width)\n",
    "    # Strides of batch_of_images_padded_cp\n",
    "    B_s, C_s, H_s, W_s = batch_of_images_padded_cp.strides\n",
    "    \n",
    "    output_height = (image_height_padded - kernel_height) // stride + 1\n",
    "    output_width  = (image_width_padded - kernel_width) // stride + 1\n",
    "\n",
    "    shape_col = (batch_size, output_height, output_width, input_channels, kernel_height, kernel_width)\n",
    "    strides_col = (B_s, H_s * stride, W_s * stride, C_s, H_s, W_s)\n",
    "    \n",
    "    X_col_view = cp.lib.stride_tricks.as_strided(batch_of_images_padded_cp, shape=shape_col, strides=strides_col)\n",
    "    X_col = X_col_view.reshape(batch_size * output_height * output_width, -1) # (B*H_out*W_out, C_in*KH*KW)\n",
    "\n",
    "    W_col = kernels_cp.reshape(kernels_number, -1).T # (C_in*KH*KW, K_num)\n",
    "    \n",
    "    images_dot_kernels_cp = cp.matmul(X_col, W_col) # (B*H_out*W_out, K_num)\n",
    "    \n",
    "    output_reshaped_cp = images_dot_kernels_cp.reshape(batch_size, output_height, output_width, kernels_number)\n",
    "    output_cp = output_reshaped_cp.transpose(0, 3, 1, 2) # (B, K_num, H_out, W_out)\n",
    "\n",
    "    if biases_cp is not None and biases_cp.any() != 0: # .any() is needed for CuPy\n",
    "        output_cp = output_cp + biases_cp.reshape(1, -1, 1, 1)\n",
    "\n",
    "    mask_cp = None\n",
    "    if applyReLU:\n",
    "        output_activated_cp = cp.maximum(0, output_cp)\n",
    "        mask_cp = (output_activated_cp > 0).astype(output_cp.dtype)\n",
    "        output_cp = output_activated_cp\n",
    "    else:\n",
    "        mask_cp = cp.ones_like(output_cp, dtype=output_cp.dtype)\n",
    "        \n",
    "    return output_cp, mask_cp\n",
    "\n",
    "# --- CuPy MLP Forward (Softmax needs CuPy implementation if not already done) ---\n",
    "def softmax_cupy(x_cp):\n",
    "    e_x_cp = cp.exp(x_cp - cp.max(x_cp, axis=-1, keepdims=True))\n",
    "    return e_x_cp / cp.sum(e_x_cp, axis=-1, keepdims=True)\n",
    "\n",
    "def ReLU_SoftMax_FullyConnected_cupy(input_array_cp, w1_cp, b1_cp, w2_cp, b2_cp):\n",
    "    fl_cp = cp.matmul(input_array_cp, w1_cp) + b1_cp\n",
    "    fa_cp = cp.maximum(0, fl_cp)\n",
    "    sl_cp = cp.matmul(fa_cp, w2_cp) + b2_cp\n",
    "    sa_cp = softmax_cupy(sl_cp)\n",
    "    return fl_cp, fa_cp, sl_cp, sa_cp\n",
    "\n",
    "# Note: CuPy backward pass (im2col_cupy_gradient) would be needed for training.\n",
    "# For inference-only comparison, we only need the forward pass.\n",
    "# If you need CuPy training, the im2col_gradient_optimized_blas structure can be adapted for CuPy."
   ]
  },
  {
   "cell_type": "code",
   "execution_count": null,
   "id": "888f69dc",
   "metadata": {},
   "outputs": [],
   "source": []
  }
 ],
 "metadata": {
  "kernelspec": {
   "display_name": "SEAI",
   "language": "python",
   "name": "python3"
  },
  "language_info": {
   "codemirror_mode": {
    "name": "ipython",
    "version": 3
   },
   "file_extension": ".py",
   "mimetype": "text/x-python",
   "name": "python",
   "nbconvert_exporter": "python",
   "pygments_lexer": "ipython3",
   "version": "3.9.19"
  }
 },
 "nbformat": 4,
 "nbformat_minor": 5
}
